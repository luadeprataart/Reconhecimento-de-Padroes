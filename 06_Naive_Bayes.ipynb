{
  "cells": [
    {
      "cell_type": "markdown",
      "metadata": {
        "id": "view-in-github",
        "colab_type": "text"
      },
      "source": [
        "<a href=\"https://colab.research.google.com/github/luadeprataart/Reconhecimento-de-Padroes/blob/main/06_Naive_Bayes.ipynb\" target=\"_parent\"><img src=\"https://colab.research.google.com/assets/colab-badge.svg\" alt=\"Open In Colab\"/></a>"
      ]
    },
    {
      "cell_type": "markdown",
      "metadata": {
        "id": "6e73g_DdcZVE"
      },
      "source": [
        "# Naive Bayes - Implementação"
      ]
    },
    {
      "cell_type": "code",
      "execution_count": null,
      "metadata": {
        "colab": {
          "base_uri": "https://localhost:8080/"
        },
        "id": "MHpqbU94cZVI",
        "outputId": "fcfd6fe7-f6d4-4e8e-8874-c61e0bdac5da"
      },
      "outputs": [
        {
          "output_type": "stream",
          "name": "stdout",
          "text": [
            "(14, 5)\n"
          ]
        }
      ],
      "source": [
        "import pandas as pd\n",
        "\n",
        "df = pd.read_csv('golf.csv',sep='\\t')\n",
        "print(df.shape)"
      ]
    },
    {
      "cell_type": "code",
      "execution_count": null,
      "metadata": {
        "colab": {
          "base_uri": "https://localhost:8080/",
          "height": 175
        },
        "id": "mHKjHtblcZVK",
        "outputId": "9aa0b100-230d-4bd7-ac61-cb232ec15371"
      },
      "outputs": [
        {
          "output_type": "execute_result",
          "data": {
            "text/plain": [
              "          Clima Temperatura Umidade  Vento Jogar Golf?\n",
              "count        14          14      14     14          14\n",
              "unique        3           3       2      2           2\n",
              "top     Chuvoso    Moderado    Alta  FALSO         Sim\n",
              "freq          5           6       7      8           9"
            ],
            "text/html": [
              "\n",
              "  <div id=\"df-90c9fb53-4b80-4e11-aeeb-df3260f5391b\" class=\"colab-df-container\">\n",
              "    <div>\n",
              "<style scoped>\n",
              "    .dataframe tbody tr th:only-of-type {\n",
              "        vertical-align: middle;\n",
              "    }\n",
              "\n",
              "    .dataframe tbody tr th {\n",
              "        vertical-align: top;\n",
              "    }\n",
              "\n",
              "    .dataframe thead th {\n",
              "        text-align: right;\n",
              "    }\n",
              "</style>\n",
              "<table border=\"1\" class=\"dataframe\">\n",
              "  <thead>\n",
              "    <tr style=\"text-align: right;\">\n",
              "      <th></th>\n",
              "      <th>Clima</th>\n",
              "      <th>Temperatura</th>\n",
              "      <th>Umidade</th>\n",
              "      <th>Vento</th>\n",
              "      <th>Jogar Golf?</th>\n",
              "    </tr>\n",
              "  </thead>\n",
              "  <tbody>\n",
              "    <tr>\n",
              "      <th>count</th>\n",
              "      <td>14</td>\n",
              "      <td>14</td>\n",
              "      <td>14</td>\n",
              "      <td>14</td>\n",
              "      <td>14</td>\n",
              "    </tr>\n",
              "    <tr>\n",
              "      <th>unique</th>\n",
              "      <td>3</td>\n",
              "      <td>3</td>\n",
              "      <td>2</td>\n",
              "      <td>2</td>\n",
              "      <td>2</td>\n",
              "    </tr>\n",
              "    <tr>\n",
              "      <th>top</th>\n",
              "      <td>Chuvoso</td>\n",
              "      <td>Moderado</td>\n",
              "      <td>Alta</td>\n",
              "      <td>FALSO</td>\n",
              "      <td>Sim</td>\n",
              "    </tr>\n",
              "    <tr>\n",
              "      <th>freq</th>\n",
              "      <td>5</td>\n",
              "      <td>6</td>\n",
              "      <td>7</td>\n",
              "      <td>8</td>\n",
              "      <td>9</td>\n",
              "    </tr>\n",
              "  </tbody>\n",
              "</table>\n",
              "</div>\n",
              "    <div class=\"colab-df-buttons\">\n",
              "\n",
              "  <div class=\"colab-df-container\">\n",
              "    <button class=\"colab-df-convert\" onclick=\"convertToInteractive('df-90c9fb53-4b80-4e11-aeeb-df3260f5391b')\"\n",
              "            title=\"Convert this dataframe to an interactive table.\"\n",
              "            style=\"display:none;\">\n",
              "\n",
              "  <svg xmlns=\"http://www.w3.org/2000/svg\" height=\"24px\" viewBox=\"0 -960 960 960\">\n",
              "    <path d=\"M120-120v-720h720v720H120Zm60-500h600v-160H180v160Zm220 220h160v-160H400v160Zm0 220h160v-160H400v160ZM180-400h160v-160H180v160Zm440 0h160v-160H620v160ZM180-180h160v-160H180v160Zm440 0h160v-160H620v160Z\"/>\n",
              "  </svg>\n",
              "    </button>\n",
              "\n",
              "  <style>\n",
              "    .colab-df-container {\n",
              "      display:flex;\n",
              "      gap: 12px;\n",
              "    }\n",
              "\n",
              "    .colab-df-convert {\n",
              "      background-color: #E8F0FE;\n",
              "      border: none;\n",
              "      border-radius: 50%;\n",
              "      cursor: pointer;\n",
              "      display: none;\n",
              "      fill: #1967D2;\n",
              "      height: 32px;\n",
              "      padding: 0 0 0 0;\n",
              "      width: 32px;\n",
              "    }\n",
              "\n",
              "    .colab-df-convert:hover {\n",
              "      background-color: #E2EBFA;\n",
              "      box-shadow: 0px 1px 2px rgba(60, 64, 67, 0.3), 0px 1px 3px 1px rgba(60, 64, 67, 0.15);\n",
              "      fill: #174EA6;\n",
              "    }\n",
              "\n",
              "    .colab-df-buttons div {\n",
              "      margin-bottom: 4px;\n",
              "    }\n",
              "\n",
              "    [theme=dark] .colab-df-convert {\n",
              "      background-color: #3B4455;\n",
              "      fill: #D2E3FC;\n",
              "    }\n",
              "\n",
              "    [theme=dark] .colab-df-convert:hover {\n",
              "      background-color: #434B5C;\n",
              "      box-shadow: 0px 1px 3px 1px rgba(0, 0, 0, 0.15);\n",
              "      filter: drop-shadow(0px 1px 2px rgba(0, 0, 0, 0.3));\n",
              "      fill: #FFFFFF;\n",
              "    }\n",
              "  </style>\n",
              "\n",
              "    <script>\n",
              "      const buttonEl =\n",
              "        document.querySelector('#df-90c9fb53-4b80-4e11-aeeb-df3260f5391b button.colab-df-convert');\n",
              "      buttonEl.style.display =\n",
              "        google.colab.kernel.accessAllowed ? 'block' : 'none';\n",
              "\n",
              "      async function convertToInteractive(key) {\n",
              "        const element = document.querySelector('#df-90c9fb53-4b80-4e11-aeeb-df3260f5391b');\n",
              "        const dataTable =\n",
              "          await google.colab.kernel.invokeFunction('convertToInteractive',\n",
              "                                                    [key], {});\n",
              "        if (!dataTable) return;\n",
              "\n",
              "        const docLinkHtml = 'Like what you see? Visit the ' +\n",
              "          '<a target=\"_blank\" href=https://colab.research.google.com/notebooks/data_table.ipynb>data table notebook</a>'\n",
              "          + ' to learn more about interactive tables.';\n",
              "        element.innerHTML = '';\n",
              "        dataTable['output_type'] = 'display_data';\n",
              "        await google.colab.output.renderOutput(dataTable, element);\n",
              "        const docLink = document.createElement('div');\n",
              "        docLink.innerHTML = docLinkHtml;\n",
              "        element.appendChild(docLink);\n",
              "      }\n",
              "    </script>\n",
              "  </div>\n",
              "\n",
              "\n",
              "<div id=\"df-ea5ca52a-24e6-422b-baa9-3782e8b6a5f3\">\n",
              "  <button class=\"colab-df-quickchart\" onclick=\"quickchart('df-ea5ca52a-24e6-422b-baa9-3782e8b6a5f3')\"\n",
              "            title=\"Suggest charts.\"\n",
              "            style=\"display:none;\">\n",
              "\n",
              "<svg xmlns=\"http://www.w3.org/2000/svg\" height=\"24px\"viewBox=\"0 0 24 24\"\n",
              "     width=\"24px\">\n",
              "    <g>\n",
              "        <path d=\"M19 3H5c-1.1 0-2 .9-2 2v14c0 1.1.9 2 2 2h14c1.1 0 2-.9 2-2V5c0-1.1-.9-2-2-2zM9 17H7v-7h2v7zm4 0h-2V7h2v10zm4 0h-2v-4h2v4z\"/>\n",
              "    </g>\n",
              "</svg>\n",
              "  </button>\n",
              "\n",
              "<style>\n",
              "  .colab-df-quickchart {\n",
              "      --bg-color: #E8F0FE;\n",
              "      --fill-color: #1967D2;\n",
              "      --hover-bg-color: #E2EBFA;\n",
              "      --hover-fill-color: #174EA6;\n",
              "      --disabled-fill-color: #AAA;\n",
              "      --disabled-bg-color: #DDD;\n",
              "  }\n",
              "\n",
              "  [theme=dark] .colab-df-quickchart {\n",
              "      --bg-color: #3B4455;\n",
              "      --fill-color: #D2E3FC;\n",
              "      --hover-bg-color: #434B5C;\n",
              "      --hover-fill-color: #FFFFFF;\n",
              "      --disabled-bg-color: #3B4455;\n",
              "      --disabled-fill-color: #666;\n",
              "  }\n",
              "\n",
              "  .colab-df-quickchart {\n",
              "    background-color: var(--bg-color);\n",
              "    border: none;\n",
              "    border-radius: 50%;\n",
              "    cursor: pointer;\n",
              "    display: none;\n",
              "    fill: var(--fill-color);\n",
              "    height: 32px;\n",
              "    padding: 0;\n",
              "    width: 32px;\n",
              "  }\n",
              "\n",
              "  .colab-df-quickchart:hover {\n",
              "    background-color: var(--hover-bg-color);\n",
              "    box-shadow: 0 1px 2px rgba(60, 64, 67, 0.3), 0 1px 3px 1px rgba(60, 64, 67, 0.15);\n",
              "    fill: var(--button-hover-fill-color);\n",
              "  }\n",
              "\n",
              "  .colab-df-quickchart-complete:disabled,\n",
              "  .colab-df-quickchart-complete:disabled:hover {\n",
              "    background-color: var(--disabled-bg-color);\n",
              "    fill: var(--disabled-fill-color);\n",
              "    box-shadow: none;\n",
              "  }\n",
              "\n",
              "  .colab-df-spinner {\n",
              "    border: 2px solid var(--fill-color);\n",
              "    border-color: transparent;\n",
              "    border-bottom-color: var(--fill-color);\n",
              "    animation:\n",
              "      spin 1s steps(1) infinite;\n",
              "  }\n",
              "\n",
              "  @keyframes spin {\n",
              "    0% {\n",
              "      border-color: transparent;\n",
              "      border-bottom-color: var(--fill-color);\n",
              "      border-left-color: var(--fill-color);\n",
              "    }\n",
              "    20% {\n",
              "      border-color: transparent;\n",
              "      border-left-color: var(--fill-color);\n",
              "      border-top-color: var(--fill-color);\n",
              "    }\n",
              "    30% {\n",
              "      border-color: transparent;\n",
              "      border-left-color: var(--fill-color);\n",
              "      border-top-color: var(--fill-color);\n",
              "      border-right-color: var(--fill-color);\n",
              "    }\n",
              "    40% {\n",
              "      border-color: transparent;\n",
              "      border-right-color: var(--fill-color);\n",
              "      border-top-color: var(--fill-color);\n",
              "    }\n",
              "    60% {\n",
              "      border-color: transparent;\n",
              "      border-right-color: var(--fill-color);\n",
              "    }\n",
              "    80% {\n",
              "      border-color: transparent;\n",
              "      border-right-color: var(--fill-color);\n",
              "      border-bottom-color: var(--fill-color);\n",
              "    }\n",
              "    90% {\n",
              "      border-color: transparent;\n",
              "      border-bottom-color: var(--fill-color);\n",
              "    }\n",
              "  }\n",
              "</style>\n",
              "\n",
              "  <script>\n",
              "    async function quickchart(key) {\n",
              "      const quickchartButtonEl =\n",
              "        document.querySelector('#' + key + ' button');\n",
              "      quickchartButtonEl.disabled = true;  // To prevent multiple clicks.\n",
              "      quickchartButtonEl.classList.add('colab-df-spinner');\n",
              "      try {\n",
              "        const charts = await google.colab.kernel.invokeFunction(\n",
              "            'suggestCharts', [key], {});\n",
              "      } catch (error) {\n",
              "        console.error('Error during call to suggestCharts:', error);\n",
              "      }\n",
              "      quickchartButtonEl.classList.remove('colab-df-spinner');\n",
              "      quickchartButtonEl.classList.add('colab-df-quickchart-complete');\n",
              "    }\n",
              "    (() => {\n",
              "      let quickchartButtonEl =\n",
              "        document.querySelector('#df-ea5ca52a-24e6-422b-baa9-3782e8b6a5f3 button');\n",
              "      quickchartButtonEl.style.display =\n",
              "        google.colab.kernel.accessAllowed ? 'block' : 'none';\n",
              "    })();\n",
              "  </script>\n",
              "</div>\n",
              "    </div>\n",
              "  </div>\n"
            ]
          },
          "metadata": {},
          "execution_count": 2
        }
      ],
      "source": [
        "df.describe()"
      ]
    },
    {
      "cell_type": "markdown",
      "metadata": {
        "id": "qggjCaXVcZVK"
      },
      "source": [
        "## Qual a probabilidade de jogar golf?"
      ]
    },
    {
      "cell_type": "code",
      "execution_count": null,
      "metadata": {
        "colab": {
          "base_uri": "https://localhost:8080/"
        },
        "id": "5-snfdTvcZVL",
        "outputId": "60d9cfbe-23a1-4c03-cda8-a131f0ed3a32"
      },
      "outputs": [
        {
          "output_type": "stream",
          "name": "stdout",
          "text": [
            "Total de sim na coluna: 9\n",
            "Total de não na coluna: 5\n"
          ]
        }
      ],
      "source": [
        "df_sim = df[df['Jogar Golf?'] == 'Sim']\n",
        "df_nao = df[df['Jogar Golf?'] == 'Não']\n",
        "\n",
        "total_sim = len(df_sim)\n",
        "total_nao = len(df_nao)\n",
        "print(\"Total de sim na coluna:\", total_sim)\n",
        "print(\"Total de não na coluna:\", total_nao)"
      ]
    },
    {
      "cell_type": "markdown",
      "metadata": {
        "id": "VrRGM22vcZVL"
      },
      "source": [
        "## Encontrando a probabilidade dos valores para o atributo Clima"
      ]
    },
    {
      "cell_type": "code",
      "execution_count": null,
      "metadata": {
        "colab": {
          "base_uri": "https://localhost:8080/"
        },
        "id": "BynwwtvIcZVM",
        "outputId": "6874366a-b9b6-4eaa-810c-f7c68ba46f48"
      },
      "outputs": [
        {
          "output_type": "execute_result",
          "data": {
            "text/plain": [
              "array(['Chuvoso', 'Nublado', 'Ensolarado'], dtype=object)"
            ]
          },
          "metadata": {},
          "execution_count": 4
        }
      ],
      "source": [
        "# vamos armazenar as probabilidades para cada valor do clima referente à Jogar Golf = Sim\n",
        "clima = dict()\n",
        "\n",
        "# quais valores esse atributo pode assumir?\n",
        "df['Clima'].unique()"
      ]
    },
    {
      "cell_type": "code",
      "execution_count": null,
      "metadata": {
        "colab": {
          "base_uri": "https://localhost:8080/"
        },
        "id": "1i1RKPv4cZVN",
        "outputId": "f1c7b820-1b4b-437c-c982-6b57aab3efd8"
      },
      "outputs": [
        {
          "output_type": "stream",
          "name": "stdout",
          "text": [
            "Chuvoso 2\n",
            "Nublado 4\n",
            "Ensolarado 3\n"
          ]
        }
      ],
      "source": [
        "valores = df['Clima'].unique()\n",
        "\n",
        "# pra cada valor, vamos ver quantas linhas tem com a classe sim\n",
        "\n",
        "for v in valores:\n",
        "    linhas = df[ (df['Clima'] == v) & (df['Jogar Golf?'] == 'Sim') ]\n",
        "    print(v, len(linhas))"
      ]
    },
    {
      "cell_type": "code",
      "execution_count": null,
      "metadata": {
        "colab": {
          "base_uri": "https://localhost:8080/"
        },
        "id": "O_5owFh2cZVO",
        "outputId": "dff42ff5-994d-490d-db36-45fa3ac3482a"
      },
      "outputs": [
        {
          "output_type": "stream",
          "name": "stdout",
          "text": [
            "Chuvoso 0.2222222222222222\n",
            "Nublado 0.4444444444444444\n",
            "Ensolarado 0.3333333333333333\n"
          ]
        }
      ],
      "source": [
        "# para calcular a probabilidade, precisamos dividir essas quantidades pelo total de Jogar Golf? = Sim da base\n",
        "\n",
        "for v in valores:\n",
        "    linhas = df[ (df['Clima'] == v) & (df['Jogar Golf?'] == 'Sim') ]\n",
        "    print(v, len(linhas)/total_sim)\n"
      ]
    },
    {
      "cell_type": "code",
      "execution_count": null,
      "metadata": {
        "colab": {
          "base_uri": "https://localhost:8080/"
        },
        "id": "2vYo45CvcZVP",
        "outputId": "cf65609c-297a-4a68-b5ff-d02408de6dd5"
      },
      "outputs": [
        {
          "output_type": "stream",
          "name": "stdout",
          "text": [
            "Chuvoso 0.6\n",
            "Nublado 0.0\n",
            "Ensolarado 0.4\n"
          ]
        }
      ],
      "source": [
        "# vamos fazer isso para a classe Jogar Golf = Não agora\n",
        "\n",
        "for v in valores:\n",
        "    linhas = df[ (df['Clima'] == v) & (df['Jogar Golf?'] == 'Não') ]\n",
        "    print(v, len(linhas)/total_nao)"
      ]
    },
    {
      "cell_type": "code",
      "execution_count": null,
      "metadata": {
        "colab": {
          "base_uri": "https://localhost:8080/"
        },
        "id": "n-YoyufAcZVP",
        "outputId": "58736984-29e1-41ea-948f-87889b123dbc"
      },
      "outputs": [
        {
          "output_type": "stream",
          "name": "stdout",
          "text": [
            "Chuvoso 0.6\n",
            "Nublado 0.001\n",
            "Ensolarado 0.4\n"
          ]
        }
      ],
      "source": [
        "# sempre que uma probabilidade estiver zerada, precisamos corrigir ela com uma pequena adição pra não dar erro de cálculo\n",
        "\n",
        "for v in valores:\n",
        "    linhas = df[ (df['Clima'] == v) & (df['Jogar Golf?'] == 'Não') ]\n",
        "    p = len(linhas)/total_nao\n",
        "    if p == 0.0:\n",
        "        p += 0.001\n",
        "    print(v, p)"
      ]
    },
    {
      "cell_type": "markdown",
      "metadata": {
        "id": "YIFEpyLCcZVP"
      },
      "source": [
        "## Calculando a probabilidade de cada atributo para cada classe"
      ]
    },
    {
      "cell_type": "code",
      "execution_count": null,
      "metadata": {
        "colab": {
          "base_uri": "https://localhost:8080/"
        },
        "id": "OGNPA9rqcZVQ",
        "outputId": "08526980-8a54-4ab0-cd25-e599a4b81174"
      },
      "outputs": [
        {
          "output_type": "stream",
          "name": "stdout",
          "text": [
            "['Clima', 'Temperatura', 'Umidade', 'Vento']\n"
          ]
        }
      ],
      "source": [
        "prob_sim = dict()\n",
        "prob_nao = dict()\n",
        "\n",
        "colunas = list(df.columns)\n",
        "colunas.remove('Jogar Golf?')\n",
        "print(colunas)"
      ]
    },
    {
      "cell_type": "code",
      "execution_count": null,
      "metadata": {
        "id": "fuLnafFRcZVQ"
      },
      "outputs": [],
      "source": [
        "for c in colunas:\n",
        "    prob_sim[c] = dict()\n",
        "    prob_nao[c] = dict()\n",
        "\n",
        "    valores_possiveis = df[c]\n",
        "\n",
        "    valores = list(df_sim[c])\n",
        "    total = len(valores)\n",
        "    for v in set(valores_possiveis):\n",
        "        prob_sim[c][v] = valores.count(v) / total\n",
        "        if prob_sim[c][v] == 0:\n",
        "            prob_sim[c][v] = 0.0001\n",
        "\n",
        "    valores = list(df_nao[c])\n",
        "    total = len(valores)\n",
        "    for v in set(valores_possiveis):\n",
        "        prob_nao[c][v] = valores.count(v) / total\n",
        "        if prob_nao[c][v] == 0:\n",
        "            prob_nao[c][v] = 0.0001"
      ]
    },
    {
      "cell_type": "code",
      "execution_count": null,
      "metadata": {
        "colab": {
          "base_uri": "https://localhost:8080/"
        },
        "id": "-kKt28wkcZVQ",
        "outputId": "46d2b832-ade1-4cde-c56d-cb2251b9fd19"
      },
      "outputs": [
        {
          "output_type": "execute_result",
          "data": {
            "text/plain": [
              "{'Chuvoso': 0.6, 'Nublado': 0.0001, 'Ensolarado': 0.4}"
            ]
          },
          "metadata": {},
          "execution_count": 11
        }
      ],
      "source": [
        "prob_nao['Clima'] # P(clima=chuvoso|JogarGolf=Não)"
      ]
    },
    {
      "cell_type": "markdown",
      "metadata": {
        "id": "9EgD2dv-cZVQ"
      },
      "source": [
        "## Classificar a amostra Clima = Chuvoso, Temperatura = Frio, Umidade = Alta e Vento = Verdadeiro"
      ]
    },
    {
      "cell_type": "code",
      "execution_count": null,
      "metadata": {
        "id": "ExIvZusBcZVR"
      },
      "outputs": [],
      "source": [
        "nao = prob_nao['Clima']['Chuvoso'] * prob_nao['Temperatura']['Frio'] * prob_nao['Umidade']['Alta'] * prob_nao['Vento']['VERDADEIRO'] * (total_nao/total)\n",
        "sim = prob_sim['Clima']['Chuvoso'] * prob_sim['Temperatura']['Frio'] * prob_sim['Umidade']['Alta'] * prob_sim['Vento']['VERDADEIRO'] * (total_sim/total)"
      ]
    },
    {
      "cell_type": "code",
      "execution_count": null,
      "metadata": {
        "colab": {
          "base_uri": "https://localhost:8080/"
        },
        "id": "ro2kBkw0cZVR",
        "outputId": "eccf873e-1978-4031-91ac-e49acfc28d45"
      },
      "outputs": [
        {
          "output_type": "stream",
          "name": "stdout",
          "text": [
            "Probabilidade de que as pessoas não vão jogar golf.\n"
          ]
        }
      ],
      "source": [
        "if sim > nao:\n",
        "    print(\"Probabilidade de que as pessoas vão jogar golf.\")\n",
        "else:\n",
        "    print(\"Probabilidade de que as pessoas não vão jogar golf.\")"
      ]
    },
    {
      "cell_type": "code",
      "execution_count": null,
      "metadata": {
        "colab": {
          "base_uri": "https://localhost:8080/"
        },
        "id": "wiKcSv9BcZVR",
        "outputId": "4ea53571-2482-4a89-f73b-179f52902a18"
      },
      "outputs": [
        {
          "output_type": "stream",
          "name": "stdout",
          "text": [
            "0.014814814814814814\n",
            "0.0576\n"
          ]
        }
      ],
      "source": [
        "print(sim)\n",
        "print(nao)"
      ]
    },
    {
      "cell_type": "code",
      "execution_count": null,
      "metadata": {
        "colab": {
          "base_uri": "https://localhost:8080/"
        },
        "id": "Bx62uU1GcZVR",
        "outputId": "cabbd4da-cb72-47b4-8839-83a79dce0d32"
      },
      "outputs": [
        {
          "output_type": "stream",
          "name": "stdout",
          "text": [
            "{'Chuvoso': 0.2222222222222222, 'Nublado': 0.4444444444444444, 'Ensolarado': 0.3333333333333333}\n",
            "{'Chuvoso': 0.6, 'Nublado': 0.0001, 'Ensolarado': 0.4}\n"
          ]
        }
      ],
      "source": [
        "## E se eu levar em consideração apenas o clima?\n",
        "\n",
        "print(prob_sim['Clima'])\n",
        "print(prob_nao['Clima'])"
      ]
    },
    {
      "cell_type": "code",
      "execution_count": null,
      "metadata": {
        "colab": {
          "base_uri": "https://localhost:8080/"
        },
        "id": "yH7-VKbzcZVR",
        "outputId": "e381aaf4-5077-4dc9-cc46-02e0ea131552"
      },
      "outputs": [
        {
          "output_type": "stream",
          "name": "stdout",
          "text": [
            "{'Quente': 0.2222222222222222, 'Frio': 0.3333333333333333, 'Moderado': 0.4444444444444444}\n",
            "{'Quente': 0.4, 'Frio': 0.2, 'Moderado': 0.4}\n"
          ]
        }
      ],
      "source": [
        "## E se eu levar em consideração apenas a temperatura?\n",
        "\n",
        "print(prob_sim['Temperatura'])\n",
        "print(prob_nao['Temperatura'])"
      ]
    },
    {
      "cell_type": "code",
      "execution_count": null,
      "metadata": {
        "colab": {
          "base_uri": "https://localhost:8080/"
        },
        "id": "ikei0hD8cZVR",
        "outputId": "97634ffe-9062-459d-a6b1-1328756be138"
      },
      "outputs": [
        {
          "output_type": "stream",
          "name": "stdout",
          "text": [
            "{'VERDADEIRO': 0.3333333333333333, 'FALSO': 0.6666666666666666}\n",
            "{'VERDADEIRO': 0.6, 'FALSO': 0.4}\n"
          ]
        }
      ],
      "source": [
        "## E se eu levar em consideração apenas o vento?\n",
        "\n",
        "print(prob_sim['Vento'])\n",
        "print(prob_nao['Vento'])"
      ]
    },
    {
      "cell_type": "markdown",
      "source": [
        "# **Classificação de Espécies de Íris com Naive Bayes**\n",
        "\n",
        "Objetivo:\n",
        "Neste exercício, você terá a oportunidade de aplicar o algoritmo Naive Bayes para construir um modelo de classificação capaz de categorizar diferentes espécies de íris com base em suas medidas. Este é um passo importante na jornada de aprendizado de máquina, onde você ganhará experiência prática na construção e avaliação de modelos de classificação.\n",
        "\n",
        "Passos do Exercício:\n",
        "\n",
        "**1. Aquisição de Dados:**\n",
        "\n",
        "Você receberá o conjunto de dados \"Iris dataset,\" que contém informações sobre as medidas das sépalas e pétalas de várias espécies de íris.\n",
        "Este conjunto de dados está prontamente disponível em bibliotecas de machine learning, como o scikit-learn, ou em repositórios online.\n",
        "\n",
        "**2. Exploração de Dados:**\n",
        "\n",
        "Comece explorando o conjunto de dados para compreender suas características. Verifique as colunas disponíveis, os tipos de medidas e o número de amostras em cada classe.\n",
        "Isso ajudará você a ganhar insights iniciais sobre o problema que está sendo abordado.\n",
        "\n",
        "**3. Pré-processamento de Dados:**\n",
        "\n",
        "Realize o pré-processamento dos dados, que pode incluir a divisão dos dados em conjuntos de treinamento e teste, normalização ou padronização de recursos (se necessário) e qualquer limpeza de dados relevante.\n",
        "\n",
        "**4. Treinamento do Modelo Naive Bayes:**\n",
        "\n",
        "Aprenda como o algoritmo Naive Bayes funciona e como ele pode ser aplicado à classificação de dados numéricos.\n",
        "Treine um modelo Naive Bayes usando os dados de treinamento que você pré-processou anteriormente.\n",
        "\n",
        "**5. Avaliação do Modelo:**\n",
        "\n",
        "Avalie o desempenho do modelo usando métricas de classificação, como precisão, recall, F1-score e matriz de confusão.\n",
        "Compreenda como essas métricas refletem a capacidade do modelo de fazer previsões precisas.\n",
        "\n",
        "**6. Tuning de Hiperparâmetros:**\n",
        "\n",
        "Experimente diferentes configurações de hiperparâmetros do modelo Naive Bayes, como o tipo de distribuição (Gaussiana, Bernoulli, Multinomial), e observe como isso afeta o desempenho.\n",
        "Isso ajudará você a ajustar o modelo para obter os melhores resultados.\n",
        "\n",
        "**7. Comparação de Modelos:**\n",
        "\n",
        "Compare o desempenho do Naive Bayes com outros algoritmos de classificação, como KNN.\n",
        "Compreenda as forças e fraquezas de cada abordagem.\n",
        "\n",
        "\n",
        "\n",
        "Este exercício prático é uma oportunidade valiosa para aplicar o algoritmo Naive Bayes a dados numéricos reais e desenvolver suas habilidades em aprendizado de máquina."
      ],
      "metadata": {
        "id": "A-lQuBOvfAeM"
      }
    },
    {
      "cell_type": "markdown",
      "source": [
        "#Tipos de Naive Bayes\n",
        "\n",
        "Atualmente, o algoritmo se tornou popular na área de Aprendizado de Máquina (Machine Learning) para categorizar textos baseado na frequência das palavras usadas, e assim pode ser usado para identificar se determinado e-mail é um SPAM ou sobre qual assunto se refere determinado texto, por exemplo.\n",
        "\n",
        "Por ser muito simples e rápido, possui um desempenho relativamente maior do que outros classificadores. Além disso, o Naive Bayes só precisa de um pequeno número de dados de teste para concluir classificações com uma boa precisão.\n",
        "\n",
        "Ele trata cada um dos valores de forma independente tratando cada um de forma independente (https://www.organicadigital.com/blog/algoritmo-de-classificacao-naive-bayes/).\n",
        "\n",
        "O Sklearn implementa o Naive Bayes de 3 formas:\n",
        "\n",
        "- Gaussian;\n",
        "- Multinomial;\n",
        "- Bernoulli;\n",
        "\n",
        "\n",
        "\n",
        "**Gaussian Naive Bayes**\n",
        "\n",
        "\n",
        "é o método indicado para quando as variáveis independentes são contínuas e têm distribuição normal."
      ],
      "metadata": {
        "id": "UVdyfABiA3LV"
      }
    },
    {
      "cell_type": "code",
      "source": [
        "import numpy as np\n",
        "import pandas as pd\n",
        "import matplotlib.pyplot as plt\n",
        "\n",
        "df = pd.read_csv(\"iris.csv\")\n",
        "print(df.describe())\n",
        "print(df['classe'].unique())\n",
        "\n",
        "df_set = df[df['classe'] == 'Iris-setosa']\n",
        "df_ver = df[df['classe'] == 'Iris-versicolor']\n",
        "df_vir = df[df['classe'] == 'Iris-virginica']\n",
        "\n",
        "\n",
        "total_set = len(df_set)\n",
        "total_ver = len(df_ver)\n",
        "total_vir = len(df_vir)\n",
        "\n",
        "\n",
        "print(\"\\nTotal de Iris-setosa:\", total_set)\n",
        "print(\"Total de Iris-virginica:\", total_ver)\n",
        "print(\"Total de Iris-virginica:\", total_vir)"
      ],
      "metadata": {
        "colab": {
          "base_uri": "https://localhost:8080/"
        },
        "id": "d3sPdIMRGKs_",
        "outputId": "f18264b5-717c-4d4d-e52a-e86eb3defd7f"
      },
      "execution_count": 28,
      "outputs": [
        {
          "output_type": "stream",
          "name": "stdout",
          "text": [
            "       comprimento_sepala  largura_sepala  comprimento_petala  largura_petala\n",
            "count          150.000000      150.000000          150.000000      150.000000\n",
            "mean             5.843333        3.054000            3.758667        1.198667\n",
            "std              0.828066        0.433594            1.764420        0.763161\n",
            "min              4.300000        2.000000            1.000000        0.100000\n",
            "25%              5.100000        2.800000            1.600000        0.300000\n",
            "50%              5.800000        3.000000            4.350000        1.300000\n",
            "75%              6.400000        3.300000            5.100000        1.800000\n",
            "max              7.900000        4.400000            6.900000        2.500000\n",
            "['Iris-setosa' 'Iris-versicolor' 'Iris-virginica']\n",
            "\n",
            "Total de Iris-setosa: 50\n",
            "Total de Iris-virginica: 50\n",
            "Total de Iris-virginica: 50\n"
          ]
        }
      ]
    },
    {
      "cell_type": "code",
      "source": [
        "comprimento_petala = dict()\n",
        "df['comprimento_petala'].unique()\n",
        "\n",
        "comprimento_sepala = dict()\n",
        "df['comprimento_sepala'].unique()\n",
        "\n",
        "largura_sepala = dict()\n",
        "df['largura_sepala'].unique()\n",
        "\n",
        "largura_petalala = dict()\n",
        "df['largura_petala'].unique()"
      ],
      "metadata": {
        "colab": {
          "base_uri": "https://localhost:8080/"
        },
        "id": "QZmqwvI2JUkm",
        "outputId": "6a0bb1a1-b33c-48d3-d0d7-b4c09eb460e4"
      },
      "execution_count": 31,
      "outputs": [
        {
          "output_type": "execute_result",
          "data": {
            "text/plain": [
              "array([0.2, 0.4, 0.3, 0.1, 0.5, 0.6, 1.4, 1.5, 1.3, 1.6, 1. , 1.1, 1.8,\n",
              "       1.2, 1.7, 2.5, 1.9, 2.1, 2.2, 2. , 2.4, 2.3])"
            ]
          },
          "metadata": {},
          "execution_count": 31
        }
      ]
    },
    {
      "cell_type": "code",
      "source": [
        "valores = df['comprimento_petala'].unique()\n",
        "\n",
        "for v in valores:\n",
        "    linhas = df[ (df['comprimento_petala'] == v) & (df['classe'] == 'Iris-setosa') ]\n",
        "    print(v, len(linhas))"
      ],
      "metadata": {
        "colab": {
          "base_uri": "https://localhost:8080/"
        },
        "id": "qxwhgX_qKbSm",
        "outputId": "b7e185e9-0c4c-4f50-a406-2a9212863152"
      },
      "execution_count": 32,
      "outputs": [
        {
          "output_type": "stream",
          "name": "stdout",
          "text": [
            "1.4 12\n",
            "1.3 7\n",
            "1.5 14\n",
            "1.7 4\n",
            "1.6 7\n",
            "1.1 1\n",
            "1.2 2\n",
            "1.0 1\n",
            "1.9 2\n",
            "4.7 0\n",
            "4.5 0\n",
            "4.9 0\n",
            "4.0 0\n",
            "4.6 0\n",
            "3.3 0\n",
            "3.9 0\n",
            "3.5 0\n",
            "4.2 0\n",
            "3.6 0\n",
            "4.4 0\n",
            "4.1 0\n",
            "4.8 0\n",
            "4.3 0\n",
            "5.0 0\n",
            "3.8 0\n",
            "3.7 0\n",
            "5.1 0\n",
            "3.0 0\n",
            "6.0 0\n",
            "5.9 0\n",
            "5.6 0\n",
            "5.8 0\n",
            "6.6 0\n",
            "6.3 0\n",
            "6.1 0\n",
            "5.3 0\n",
            "5.5 0\n",
            "6.7 0\n",
            "6.9 0\n",
            "5.7 0\n",
            "6.4 0\n",
            "5.4 0\n",
            "5.2 0\n"
          ]
        }
      ]
    },
    {
      "cell_type": "markdown",
      "source": [
        "\n",
        "**Multinomial Naive Bayes**\n",
        "\n",
        "as variáveis independentes também são discretas, mas agora são multinominais, o que significa que elas têm mais de um valor possível, como os possíveis resultados de uma jogada de dado\n",
        "\n"
      ],
      "metadata": {
        "id": "vRDbv4bhBr-q"
      }
    },
    {
      "cell_type": "code",
      "source": [],
      "metadata": {
        "id": "BnxhYtzUGLcd"
      },
      "execution_count": null,
      "outputs": []
    },
    {
      "cell_type": "markdown",
      "source": [
        "\n",
        "**Bernoulli Naive Bayes**\n",
        "\n",
        "usado quando as variáveis independentes são discretas, mas apenas dois valores são possíveis, como os possíveis resultados de jogar uma moeda (binario).\n"
      ],
      "metadata": {
        "id": "oqFstHJiBxqD"
      }
    },
    {
      "cell_type": "code",
      "source": [],
      "metadata": {
        "id": "gRFkgQq1GMNH"
      },
      "execution_count": null,
      "outputs": []
    },
    {
      "cell_type": "markdown",
      "source": [
        "\n",
        "**Complement Naive Bayes**\n",
        "\n",
        "é um caso específico para problemas multinomais aplicado a bases de dados desbalanceadas, ou seja, quando as variáveis de saída têm probabilidades distintas.\n"
      ],
      "metadata": {
        "id": "SEY2PU2cBuu-"
      }
    },
    {
      "cell_type": "markdown",
      "source": [
        "#Extra\n"
      ],
      "metadata": {
        "id": "nAu5hLVpstAy"
      }
    },
    {
      "cell_type": "markdown",
      "source": [
        "Procure utilizar o Naive Bayes nos seguintes dataset\n",
        "\n",
        "* Conjunto de Dados de Diabetes (Pima Indians Diabetes Database)\n",
        "* Conjunto de Dados de Câncer de Mama\n",
        "* Conjunto de Dados de Vinhos (Wine Data)\n",
        "* Conjunto de Dados de Qualidade do Vinho (Wine Quality Data)\n"
      ],
      "metadata": {
        "id": "-ruB8DMos-NM"
      }
    },
    {
      "cell_type": "code",
      "source": [],
      "metadata": {
        "id": "HAM9Jp5dsvIK"
      },
      "execution_count": null,
      "outputs": []
    }
  ],
  "metadata": {
    "kernelspec": {
      "display_name": "Python 3",
      "language": "python",
      "name": "python3"
    },
    "language_info": {
      "codemirror_mode": {
        "name": "ipython",
        "version": 3
      },
      "file_extension": ".py",
      "mimetype": "text/x-python",
      "name": "python",
      "nbconvert_exporter": "python",
      "pygments_lexer": "ipython3",
      "version": "3.7.3"
    },
    "colab": {
      "provenance": [],
      "include_colab_link": true
    }
  },
  "nbformat": 4,
  "nbformat_minor": 0
}