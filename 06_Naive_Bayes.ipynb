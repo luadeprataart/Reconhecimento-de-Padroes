{
  "cells": [
    {
      "cell_type": "markdown",
      "metadata": {
        "id": "view-in-github",
        "colab_type": "text"
      },
      "source": [
        "<a href=\"https://colab.research.google.com/github/luadeprataart/Reconhecimento-de-Padroes/blob/main/06_Naive_Bayes.ipynb\" target=\"_parent\"><img src=\"https://colab.research.google.com/assets/colab-badge.svg\" alt=\"Open In Colab\"/></a>"
      ]
    },
    {
      "cell_type": "markdown",
      "metadata": {
        "id": "6e73g_DdcZVE"
      },
      "source": [
        "# Naive Bayes - Implementação"
      ]
    },
    {
      "cell_type": "code",
      "execution_count": 1,
      "metadata": {
        "colab": {
          "base_uri": "https://localhost:8080/"
        },
        "id": "MHpqbU94cZVI",
        "outputId": "5b9da5b8-b72c-4cbf-f009-e78164dd3b74"
      },
      "outputs": [
        {
          "output_type": "stream",
          "name": "stdout",
          "text": [
            "(14, 5)\n"
          ]
        }
      ],
      "source": [
        "import pandas as pd\n",
        "\n",
        "df = pd.read_csv('golf.csv',sep='\\t')\n",
        "print(df.shape)"
      ]
    },
    {
      "cell_type": "code",
      "execution_count": 2,
      "metadata": {
        "colab": {
          "base_uri": "https://localhost:8080/",
          "height": 175
        },
        "id": "mHKjHtblcZVK",
        "outputId": "ab9262a0-1ca2-4203-ff20-30b7952393ca"
      },
      "outputs": [
        {
          "output_type": "execute_result",
          "data": {
            "text/plain": [
              "          Clima Temperatura Umidade  Vento Jogar Golf?\n",
              "count        14          14      14     14          14\n",
              "unique        3           3       2      2           2\n",
              "top     Chuvoso    Moderado    Alta  FALSO         Sim\n",
              "freq          5           6       7      8           9"
            ],
            "text/html": [
              "\n",
              "  <div id=\"df-5185bcbb-3b25-4af7-842d-8a345dd54a44\" class=\"colab-df-container\">\n",
              "    <div>\n",
              "<style scoped>\n",
              "    .dataframe tbody tr th:only-of-type {\n",
              "        vertical-align: middle;\n",
              "    }\n",
              "\n",
              "    .dataframe tbody tr th {\n",
              "        vertical-align: top;\n",
              "    }\n",
              "\n",
              "    .dataframe thead th {\n",
              "        text-align: right;\n",
              "    }\n",
              "</style>\n",
              "<table border=\"1\" class=\"dataframe\">\n",
              "  <thead>\n",
              "    <tr style=\"text-align: right;\">\n",
              "      <th></th>\n",
              "      <th>Clima</th>\n",
              "      <th>Temperatura</th>\n",
              "      <th>Umidade</th>\n",
              "      <th>Vento</th>\n",
              "      <th>Jogar Golf?</th>\n",
              "    </tr>\n",
              "  </thead>\n",
              "  <tbody>\n",
              "    <tr>\n",
              "      <th>count</th>\n",
              "      <td>14</td>\n",
              "      <td>14</td>\n",
              "      <td>14</td>\n",
              "      <td>14</td>\n",
              "      <td>14</td>\n",
              "    </tr>\n",
              "    <tr>\n",
              "      <th>unique</th>\n",
              "      <td>3</td>\n",
              "      <td>3</td>\n",
              "      <td>2</td>\n",
              "      <td>2</td>\n",
              "      <td>2</td>\n",
              "    </tr>\n",
              "    <tr>\n",
              "      <th>top</th>\n",
              "      <td>Chuvoso</td>\n",
              "      <td>Moderado</td>\n",
              "      <td>Alta</td>\n",
              "      <td>FALSO</td>\n",
              "      <td>Sim</td>\n",
              "    </tr>\n",
              "    <tr>\n",
              "      <th>freq</th>\n",
              "      <td>5</td>\n",
              "      <td>6</td>\n",
              "      <td>7</td>\n",
              "      <td>8</td>\n",
              "      <td>9</td>\n",
              "    </tr>\n",
              "  </tbody>\n",
              "</table>\n",
              "</div>\n",
              "    <div class=\"colab-df-buttons\">\n",
              "\n",
              "  <div class=\"colab-df-container\">\n",
              "    <button class=\"colab-df-convert\" onclick=\"convertToInteractive('df-5185bcbb-3b25-4af7-842d-8a345dd54a44')\"\n",
              "            title=\"Convert this dataframe to an interactive table.\"\n",
              "            style=\"display:none;\">\n",
              "\n",
              "  <svg xmlns=\"http://www.w3.org/2000/svg\" height=\"24px\" viewBox=\"0 -960 960 960\">\n",
              "    <path d=\"M120-120v-720h720v720H120Zm60-500h600v-160H180v160Zm220 220h160v-160H400v160Zm0 220h160v-160H400v160ZM180-400h160v-160H180v160Zm440 0h160v-160H620v160ZM180-180h160v-160H180v160Zm440 0h160v-160H620v160Z\"/>\n",
              "  </svg>\n",
              "    </button>\n",
              "\n",
              "  <style>\n",
              "    .colab-df-container {\n",
              "      display:flex;\n",
              "      gap: 12px;\n",
              "    }\n",
              "\n",
              "    .colab-df-convert {\n",
              "      background-color: #E8F0FE;\n",
              "      border: none;\n",
              "      border-radius: 50%;\n",
              "      cursor: pointer;\n",
              "      display: none;\n",
              "      fill: #1967D2;\n",
              "      height: 32px;\n",
              "      padding: 0 0 0 0;\n",
              "      width: 32px;\n",
              "    }\n",
              "\n",
              "    .colab-df-convert:hover {\n",
              "      background-color: #E2EBFA;\n",
              "      box-shadow: 0px 1px 2px rgba(60, 64, 67, 0.3), 0px 1px 3px 1px rgba(60, 64, 67, 0.15);\n",
              "      fill: #174EA6;\n",
              "    }\n",
              "\n",
              "    .colab-df-buttons div {\n",
              "      margin-bottom: 4px;\n",
              "    }\n",
              "\n",
              "    [theme=dark] .colab-df-convert {\n",
              "      background-color: #3B4455;\n",
              "      fill: #D2E3FC;\n",
              "    }\n",
              "\n",
              "    [theme=dark] .colab-df-convert:hover {\n",
              "      background-color: #434B5C;\n",
              "      box-shadow: 0px 1px 3px 1px rgba(0, 0, 0, 0.15);\n",
              "      filter: drop-shadow(0px 1px 2px rgba(0, 0, 0, 0.3));\n",
              "      fill: #FFFFFF;\n",
              "    }\n",
              "  </style>\n",
              "\n",
              "    <script>\n",
              "      const buttonEl =\n",
              "        document.querySelector('#df-5185bcbb-3b25-4af7-842d-8a345dd54a44 button.colab-df-convert');\n",
              "      buttonEl.style.display =\n",
              "        google.colab.kernel.accessAllowed ? 'block' : 'none';\n",
              "\n",
              "      async function convertToInteractive(key) {\n",
              "        const element = document.querySelector('#df-5185bcbb-3b25-4af7-842d-8a345dd54a44');\n",
              "        const dataTable =\n",
              "          await google.colab.kernel.invokeFunction('convertToInteractive',\n",
              "                                                    [key], {});\n",
              "        if (!dataTable) return;\n",
              "\n",
              "        const docLinkHtml = 'Like what you see? Visit the ' +\n",
              "          '<a target=\"_blank\" href=https://colab.research.google.com/notebooks/data_table.ipynb>data table notebook</a>'\n",
              "          + ' to learn more about interactive tables.';\n",
              "        element.innerHTML = '';\n",
              "        dataTable['output_type'] = 'display_data';\n",
              "        await google.colab.output.renderOutput(dataTable, element);\n",
              "        const docLink = document.createElement('div');\n",
              "        docLink.innerHTML = docLinkHtml;\n",
              "        element.appendChild(docLink);\n",
              "      }\n",
              "    </script>\n",
              "  </div>\n",
              "\n",
              "\n",
              "<div id=\"df-052c70f9-321f-4c63-9a58-17dfaf85e39f\">\n",
              "  <button class=\"colab-df-quickchart\" onclick=\"quickchart('df-052c70f9-321f-4c63-9a58-17dfaf85e39f')\"\n",
              "            title=\"Suggest charts.\"\n",
              "            style=\"display:none;\">\n",
              "\n",
              "<svg xmlns=\"http://www.w3.org/2000/svg\" height=\"24px\"viewBox=\"0 0 24 24\"\n",
              "     width=\"24px\">\n",
              "    <g>\n",
              "        <path d=\"M19 3H5c-1.1 0-2 .9-2 2v14c0 1.1.9 2 2 2h14c1.1 0 2-.9 2-2V5c0-1.1-.9-2-2-2zM9 17H7v-7h2v7zm4 0h-2V7h2v10zm4 0h-2v-4h2v4z\"/>\n",
              "    </g>\n",
              "</svg>\n",
              "  </button>\n",
              "\n",
              "<style>\n",
              "  .colab-df-quickchart {\n",
              "      --bg-color: #E8F0FE;\n",
              "      --fill-color: #1967D2;\n",
              "      --hover-bg-color: #E2EBFA;\n",
              "      --hover-fill-color: #174EA6;\n",
              "      --disabled-fill-color: #AAA;\n",
              "      --disabled-bg-color: #DDD;\n",
              "  }\n",
              "\n",
              "  [theme=dark] .colab-df-quickchart {\n",
              "      --bg-color: #3B4455;\n",
              "      --fill-color: #D2E3FC;\n",
              "      --hover-bg-color: #434B5C;\n",
              "      --hover-fill-color: #FFFFFF;\n",
              "      --disabled-bg-color: #3B4455;\n",
              "      --disabled-fill-color: #666;\n",
              "  }\n",
              "\n",
              "  .colab-df-quickchart {\n",
              "    background-color: var(--bg-color);\n",
              "    border: none;\n",
              "    border-radius: 50%;\n",
              "    cursor: pointer;\n",
              "    display: none;\n",
              "    fill: var(--fill-color);\n",
              "    height: 32px;\n",
              "    padding: 0;\n",
              "    width: 32px;\n",
              "  }\n",
              "\n",
              "  .colab-df-quickchart:hover {\n",
              "    background-color: var(--hover-bg-color);\n",
              "    box-shadow: 0 1px 2px rgba(60, 64, 67, 0.3), 0 1px 3px 1px rgba(60, 64, 67, 0.15);\n",
              "    fill: var(--button-hover-fill-color);\n",
              "  }\n",
              "\n",
              "  .colab-df-quickchart-complete:disabled,\n",
              "  .colab-df-quickchart-complete:disabled:hover {\n",
              "    background-color: var(--disabled-bg-color);\n",
              "    fill: var(--disabled-fill-color);\n",
              "    box-shadow: none;\n",
              "  }\n",
              "\n",
              "  .colab-df-spinner {\n",
              "    border: 2px solid var(--fill-color);\n",
              "    border-color: transparent;\n",
              "    border-bottom-color: var(--fill-color);\n",
              "    animation:\n",
              "      spin 1s steps(1) infinite;\n",
              "  }\n",
              "\n",
              "  @keyframes spin {\n",
              "    0% {\n",
              "      border-color: transparent;\n",
              "      border-bottom-color: var(--fill-color);\n",
              "      border-left-color: var(--fill-color);\n",
              "    }\n",
              "    20% {\n",
              "      border-color: transparent;\n",
              "      border-left-color: var(--fill-color);\n",
              "      border-top-color: var(--fill-color);\n",
              "    }\n",
              "    30% {\n",
              "      border-color: transparent;\n",
              "      border-left-color: var(--fill-color);\n",
              "      border-top-color: var(--fill-color);\n",
              "      border-right-color: var(--fill-color);\n",
              "    }\n",
              "    40% {\n",
              "      border-color: transparent;\n",
              "      border-right-color: var(--fill-color);\n",
              "      border-top-color: var(--fill-color);\n",
              "    }\n",
              "    60% {\n",
              "      border-color: transparent;\n",
              "      border-right-color: var(--fill-color);\n",
              "    }\n",
              "    80% {\n",
              "      border-color: transparent;\n",
              "      border-right-color: var(--fill-color);\n",
              "      border-bottom-color: var(--fill-color);\n",
              "    }\n",
              "    90% {\n",
              "      border-color: transparent;\n",
              "      border-bottom-color: var(--fill-color);\n",
              "    }\n",
              "  }\n",
              "</style>\n",
              "\n",
              "  <script>\n",
              "    async function quickchart(key) {\n",
              "      const quickchartButtonEl =\n",
              "        document.querySelector('#' + key + ' button');\n",
              "      quickchartButtonEl.disabled = true;  // To prevent multiple clicks.\n",
              "      quickchartButtonEl.classList.add('colab-df-spinner');\n",
              "      try {\n",
              "        const charts = await google.colab.kernel.invokeFunction(\n",
              "            'suggestCharts', [key], {});\n",
              "      } catch (error) {\n",
              "        console.error('Error during call to suggestCharts:', error);\n",
              "      }\n",
              "      quickchartButtonEl.classList.remove('colab-df-spinner');\n",
              "      quickchartButtonEl.classList.add('colab-df-quickchart-complete');\n",
              "    }\n",
              "    (() => {\n",
              "      let quickchartButtonEl =\n",
              "        document.querySelector('#df-052c70f9-321f-4c63-9a58-17dfaf85e39f button');\n",
              "      quickchartButtonEl.style.display =\n",
              "        google.colab.kernel.accessAllowed ? 'block' : 'none';\n",
              "    })();\n",
              "  </script>\n",
              "</div>\n",
              "    </div>\n",
              "  </div>\n"
            ]
          },
          "metadata": {},
          "execution_count": 2
        }
      ],
      "source": [
        "df.describe()"
      ]
    },
    {
      "cell_type": "markdown",
      "metadata": {
        "id": "qggjCaXVcZVK"
      },
      "source": [
        "## Qual a probabilidade de jogar golf?"
      ]
    },
    {
      "cell_type": "code",
      "execution_count": 3,
      "metadata": {
        "colab": {
          "base_uri": "https://localhost:8080/"
        },
        "id": "5-snfdTvcZVL",
        "outputId": "eea9e79f-5c48-4061-e99e-82c4e9090020"
      },
      "outputs": [
        {
          "output_type": "stream",
          "name": "stdout",
          "text": [
            "Total de sim na coluna: 9\n",
            "Total de não na coluna: 5\n"
          ]
        }
      ],
      "source": [
        "df_sim = df[df['Jogar Golf?'] == 'Sim']\n",
        "df_nao = df[df['Jogar Golf?'] == 'Não']\n",
        "\n",
        "total_sim = len(df_sim)\n",
        "total_nao = len(df_nao)\n",
        "print(\"Total de sim na coluna:\", total_sim)\n",
        "print(\"Total de não na coluna:\", total_nao)"
      ]
    },
    {
      "cell_type": "markdown",
      "metadata": {
        "id": "VrRGM22vcZVL"
      },
      "source": [
        "## Encontrando a probabilidade dos valores para o atributo Clima"
      ]
    },
    {
      "cell_type": "code",
      "execution_count": 4,
      "metadata": {
        "colab": {
          "base_uri": "https://localhost:8080/"
        },
        "id": "BynwwtvIcZVM",
        "outputId": "54f61e66-5455-4162-f91f-79d36a238cb9"
      },
      "outputs": [
        {
          "output_type": "execute_result",
          "data": {
            "text/plain": [
              "array(['Chuvoso', 'Nublado', 'Ensolarado'], dtype=object)"
            ]
          },
          "metadata": {},
          "execution_count": 4
        }
      ],
      "source": [
        "# vamos armazenar as probabilidades para cada valor do clima referente à Jogar Golf = Sim\n",
        "clima = dict()\n",
        "\n",
        "# quais valores esse atributo pode assumir?\n",
        "df['Clima'].unique()"
      ]
    },
    {
      "cell_type": "code",
      "execution_count": 5,
      "metadata": {
        "colab": {
          "base_uri": "https://localhost:8080/"
        },
        "id": "1i1RKPv4cZVN",
        "outputId": "8858df8d-af80-49a5-d52e-e98b5aeff305"
      },
      "outputs": [
        {
          "output_type": "stream",
          "name": "stdout",
          "text": [
            "Chuvoso 2\n",
            "Nublado 4\n",
            "Ensolarado 3\n"
          ]
        }
      ],
      "source": [
        "valores = df['Clima'].unique()\n",
        "\n",
        "# pra cada valor, vamos ver quantas linhas tem com a classe sim\n",
        "\n",
        "for v in valores:\n",
        "    linhas = df[ (df['Clima'] == v) & (df['Jogar Golf?'] == 'Sim') ]\n",
        "    print(v, len(linhas))"
      ]
    },
    {
      "cell_type": "code",
      "execution_count": 6,
      "metadata": {
        "colab": {
          "base_uri": "https://localhost:8080/"
        },
        "id": "O_5owFh2cZVO",
        "outputId": "65cdf523-96ff-42ee-d402-f231660b20de"
      },
      "outputs": [
        {
          "output_type": "stream",
          "name": "stdout",
          "text": [
            "Chuvoso 0.2222222222222222\n",
            "Nublado 0.4444444444444444\n",
            "Ensolarado 0.3333333333333333\n"
          ]
        }
      ],
      "source": [
        "# para calcular a probabilidade, precisamos dividir essas quantidades pelo total de Jogar Golf? = Sim da base\n",
        "\n",
        "for v in valores:\n",
        "    linhas = df[ (df['Clima'] == v) & (df['Jogar Golf?'] == 'Sim') ]\n",
        "    print(v, len(linhas)/total_sim)\n"
      ]
    },
    {
      "cell_type": "code",
      "execution_count": 7,
      "metadata": {
        "colab": {
          "base_uri": "https://localhost:8080/"
        },
        "id": "2vYo45CvcZVP",
        "outputId": "60b79a0c-6faa-449c-95d2-bc58a4822140"
      },
      "outputs": [
        {
          "output_type": "stream",
          "name": "stdout",
          "text": [
            "Chuvoso 0.6\n",
            "Nublado 0.0\n",
            "Ensolarado 0.4\n"
          ]
        }
      ],
      "source": [
        "# vamos fazer isso para a classe Jogar Golf = Não agora\n",
        "\n",
        "for v in valores:\n",
        "    linhas = df[ (df['Clima'] == v) & (df['Jogar Golf?'] == 'Não') ]\n",
        "    print(v, len(linhas)/total_nao)"
      ]
    },
    {
      "cell_type": "code",
      "execution_count": 8,
      "metadata": {
        "colab": {
          "base_uri": "https://localhost:8080/"
        },
        "id": "n-YoyufAcZVP",
        "outputId": "c43cfcec-ce4e-4733-fb2c-5d15702daa5d"
      },
      "outputs": [
        {
          "output_type": "stream",
          "name": "stdout",
          "text": [
            "Chuvoso 0.6\n",
            "Nublado 0.001\n",
            "Ensolarado 0.4\n"
          ]
        }
      ],
      "source": [
        "# sempre que uma probabilidade estiver zerada, precisamos corrigir ela com uma pequena adição pra não dar erro de cálculo\n",
        "\n",
        "for v in valores:\n",
        "    linhas = df[ (df['Clima'] == v) & (df['Jogar Golf?'] == 'Não') ]\n",
        "    p = len(linhas)/total_nao\n",
        "    if p == 0.0:\n",
        "        p += 0.001\n",
        "    print(v, p)"
      ]
    },
    {
      "cell_type": "markdown",
      "metadata": {
        "id": "YIFEpyLCcZVP"
      },
      "source": [
        "## Calculando a probabilidade de cada atributo para cada classe"
      ]
    },
    {
      "cell_type": "code",
      "execution_count": 9,
      "metadata": {
        "colab": {
          "base_uri": "https://localhost:8080/"
        },
        "id": "OGNPA9rqcZVQ",
        "outputId": "79d8f65a-ce01-49a2-99fa-c0254978967e"
      },
      "outputs": [
        {
          "output_type": "stream",
          "name": "stdout",
          "text": [
            "['Clima', 'Temperatura', 'Umidade', 'Vento']\n"
          ]
        }
      ],
      "source": [
        "prob_sim = dict()\n",
        "prob_nao = dict()\n",
        "\n",
        "colunas = list(df.columns)\n",
        "colunas.remove('Jogar Golf?')\n",
        "print(colunas)"
      ]
    },
    {
      "cell_type": "code",
      "execution_count": 10,
      "metadata": {
        "id": "fuLnafFRcZVQ"
      },
      "outputs": [],
      "source": [
        "for c in colunas:\n",
        "    prob_sim[c] = dict()\n",
        "    prob_nao[c] = dict()\n",
        "\n",
        "    valores_possiveis = df[c]\n",
        "\n",
        "    valores = list(df_sim[c])\n",
        "    total = len(valores)\n",
        "    for v in set(valores_possiveis):\n",
        "        prob_sim[c][v] = valores.count(v) / total\n",
        "        if prob_sim[c][v] == 0:\n",
        "            prob_sim[c][v] = 0.0001\n",
        "\n",
        "    valores = list(df_nao[c])\n",
        "    total = len(valores)\n",
        "    for v in set(valores_possiveis):\n",
        "        prob_nao[c][v] = valores.count(v) / total\n",
        "        if prob_nao[c][v] == 0:\n",
        "            prob_nao[c][v] = 0.0001"
      ]
    },
    {
      "cell_type": "code",
      "execution_count": 11,
      "metadata": {
        "colab": {
          "base_uri": "https://localhost:8080/"
        },
        "id": "-kKt28wkcZVQ",
        "outputId": "ba7ccb64-6636-44bc-fa81-4571dc0fa78b"
      },
      "outputs": [
        {
          "output_type": "execute_result",
          "data": {
            "text/plain": [
              "{'Chuvoso': 0.6, 'Ensolarado': 0.4, 'Nublado': 0.0001}"
            ]
          },
          "metadata": {},
          "execution_count": 11
        }
      ],
      "source": [
        "prob_nao['Clima'] # P(clima=chuvoso|JogarGolf=Não)"
      ]
    },
    {
      "cell_type": "markdown",
      "metadata": {
        "id": "9EgD2dv-cZVQ"
      },
      "source": [
        "## Classificar a amostra Clima = Chuvoso, Temperatura = Frio, Umidade = Alta e Vento = Verdadeiro"
      ]
    },
    {
      "cell_type": "code",
      "execution_count": 12,
      "metadata": {
        "id": "ExIvZusBcZVR"
      },
      "outputs": [],
      "source": [
        "nao = prob_nao['Clima']['Chuvoso'] * prob_nao['Temperatura']['Frio'] * prob_nao['Umidade']['Alta'] * prob_nao['Vento']['VERDADEIRO'] * (total_nao/total)\n",
        "sim = prob_sim['Clima']['Chuvoso'] * prob_sim['Temperatura']['Frio'] * prob_sim['Umidade']['Alta'] * prob_sim['Vento']['VERDADEIRO'] * (total_sim/total)"
      ]
    },
    {
      "cell_type": "code",
      "execution_count": 13,
      "metadata": {
        "colab": {
          "base_uri": "https://localhost:8080/"
        },
        "id": "ro2kBkw0cZVR",
        "outputId": "a02c6c23-3b6f-4fe5-d485-77623e947a29"
      },
      "outputs": [
        {
          "output_type": "stream",
          "name": "stdout",
          "text": [
            "Probabilidade de que as pessoas não vão jogar golf.\n"
          ]
        }
      ],
      "source": [
        "if sim > nao:\n",
        "    print(\"Probabilidade de que as pessoas vão jogar golf.\")\n",
        "else:\n",
        "    print(\"Probabilidade de que as pessoas não vão jogar golf.\")"
      ]
    },
    {
      "cell_type": "code",
      "execution_count": 14,
      "metadata": {
        "colab": {
          "base_uri": "https://localhost:8080/"
        },
        "id": "wiKcSv9BcZVR",
        "outputId": "44fa2c9d-c78d-4952-ffab-90e72cf7f24c"
      },
      "outputs": [
        {
          "output_type": "stream",
          "name": "stdout",
          "text": [
            "0.014814814814814814\n",
            "0.0576\n"
          ]
        }
      ],
      "source": [
        "print(sim)\n",
        "print(nao)"
      ]
    },
    {
      "cell_type": "code",
      "execution_count": 15,
      "metadata": {
        "colab": {
          "base_uri": "https://localhost:8080/"
        },
        "id": "Bx62uU1GcZVR",
        "outputId": "9159068b-17d9-43ab-f0ac-564ed33ea2b0"
      },
      "outputs": [
        {
          "output_type": "stream",
          "name": "stdout",
          "text": [
            "{'Chuvoso': 0.2222222222222222, 'Ensolarado': 0.3333333333333333, 'Nublado': 0.4444444444444444}\n",
            "{'Chuvoso': 0.6, 'Ensolarado': 0.4, 'Nublado': 0.0001}\n"
          ]
        }
      ],
      "source": [
        "## E se eu levar em consideração apenas o clima?\n",
        "\n",
        "print(prob_sim['Clima'])\n",
        "print(prob_nao['Clima'])"
      ]
    },
    {
      "cell_type": "code",
      "execution_count": 16,
      "metadata": {
        "colab": {
          "base_uri": "https://localhost:8080/"
        },
        "id": "yH7-VKbzcZVR",
        "outputId": "86575d63-cd90-4e91-b3d2-85387a82342b"
      },
      "outputs": [
        {
          "output_type": "stream",
          "name": "stdout",
          "text": [
            "{'Frio': 0.3333333333333333, 'Moderado': 0.4444444444444444, 'Quente': 0.2222222222222222}\n",
            "{'Frio': 0.2, 'Moderado': 0.4, 'Quente': 0.4}\n"
          ]
        }
      ],
      "source": [
        "## E se eu levar em consideração apenas a temperatura?\n",
        "\n",
        "print(prob_sim['Temperatura'])\n",
        "print(prob_nao['Temperatura'])"
      ]
    },
    {
      "cell_type": "code",
      "execution_count": 17,
      "metadata": {
        "colab": {
          "base_uri": "https://localhost:8080/"
        },
        "id": "ikei0hD8cZVR",
        "outputId": "f1ebe13d-5ad3-4b6b-e724-3a4accffc9fe"
      },
      "outputs": [
        {
          "output_type": "stream",
          "name": "stdout",
          "text": [
            "{'FALSO': 0.6666666666666666, 'VERDADEIRO': 0.3333333333333333}\n",
            "{'FALSO': 0.4, 'VERDADEIRO': 0.6}\n"
          ]
        }
      ],
      "source": [
        "## E se eu levar em consideração apenas o vento?\n",
        "\n",
        "print(prob_sim['Vento'])\n",
        "print(prob_nao['Vento'])"
      ]
    },
    {
      "cell_type": "markdown",
      "source": [
        "# **Classificação de Espécies de Íris com Naive Bayes**\n",
        "\n",
        "Objetivo:\n",
        "Neste exercício, você terá a oportunidade de aplicar o algoritmo Naive Bayes para construir um modelo de classificação capaz de categorizar diferentes espécies de íris com base em suas medidas. Este é um passo importante na jornada de aprendizado de máquina, onde você ganhará experiência prática na construção e avaliação de modelos de classificação.\n",
        "\n",
        "Passos do Exercício:\n",
        "\n",
        "**1. Aquisição de Dados:**\n",
        "\n",
        "Você receberá o conjunto de dados \"Iris dataset,\" que contém informações sobre as medidas das sépalas e pétalas de várias espécies de íris.\n",
        "Este conjunto de dados está prontamente disponível em bibliotecas de machine learning, como o scikit-learn, ou em repositórios online.\n",
        "\n",
        "**2. Exploração de Dados:**\n",
        "\n",
        "Comece explorando o conjunto de dados para compreender suas características. Verifique as colunas disponíveis, os tipos de medidas e o número de amostras em cada classe.\n",
        "Isso ajudará você a ganhar insights iniciais sobre o problema que está sendo abordado.\n",
        "\n",
        "**3. Pré-processamento de Dados:**\n",
        "\n",
        "Realize o pré-processamento dos dados, que pode incluir a divisão dos dados em conjuntos de treinamento e teste, normalização ou padronização de recursos (se necessário) e qualquer limpeza de dados relevante.\n",
        "\n",
        "**4. Treinamento do Modelo Naive Bayes:**\n",
        "\n",
        "Aprenda como o algoritmo Naive Bayes funciona e como ele pode ser aplicado à classificação de dados numéricos.\n",
        "Treine um modelo Naive Bayes usando os dados de treinamento que você pré-processou anteriormente.\n",
        "\n",
        "**5. Avaliação do Modelo:**\n",
        "\n",
        "Avalie o desempenho do modelo usando métricas de classificação, como precisão, recall, F1-score e matriz de confusão.\n",
        "Compreenda como essas métricas refletem a capacidade do modelo de fazer previsões precisas.\n",
        "\n",
        "**6. Tuning de Hiperparâmetros:**\n",
        "\n",
        "Experimente diferentes configurações de hiperparâmetros do modelo Naive Bayes, como o tipo de distribuição (Gaussiana, Bernoulli, Multinomial), e observe como isso afeta o desempenho.\n",
        "Isso ajudará você a ajustar o modelo para obter os melhores resultados.\n",
        "\n",
        "**7. Comparação de Modelos:**\n",
        "\n",
        "Compare o desempenho do Naive Bayes com outros algoritmos de classificação, como KNN.\n",
        "Compreenda as forças e fraquezas de cada abordagem.\n",
        "\n",
        "\n",
        "\n",
        "Este exercício prático é uma oportunidade valiosa para aplicar o algoritmo Naive Bayes a dados numéricos reais e desenvolver suas habilidades em aprendizado de máquina."
      ],
      "metadata": {
        "id": "A-lQuBOvfAeM"
      }
    },
    {
      "cell_type": "markdown",
      "source": [
        "#Tipos de Naive Bayes\n",
        "\n",
        "Atualmente, o algoritmo se tornou popular na área de Aprendizado de Máquina (Machine Learning) para categorizar textos baseado na frequência das palavras usadas, e assim pode ser usado para identificar se determinado e-mail é um SPAM ou sobre qual assunto se refere determinado texto, por exemplo.\n",
        "\n",
        "Por ser muito simples e rápido, possui um desempenho relativamente maior do que outros classificadores. Além disso, o Naive Bayes só precisa de um pequeno número de dados de teste para concluir classificações com uma boa precisão.\n",
        "\n",
        "Ele trata cada um dos valores de forma independente tratando cada um de forma independente (https://www.organicadigital.com/blog/algoritmo-de-classificacao-naive-bayes/).\n",
        "\n",
        "O Sklearn implementa o Naive Bayes de 3 formas:\n",
        "\n",
        "- Gaussian;\n",
        "- Multinomial;\n",
        "- Bernoulli;\n",
        "\n",
        "\n",
        "\n",
        "**Gaussian Naive Bayes**\n",
        "\n",
        "\n",
        "é o método indicado para quando as variáveis independentes são contínuas e têm distribuição normal."
      ],
      "metadata": {
        "id": "UVdyfABiA3LV"
      }
    },
    {
      "cell_type": "markdown",
      "source": [
        "\n",
        "**Multinomial Naive Bayes**\n",
        "\n",
        "as variáveis independentes também são discretas, mas agora são multinominais, o que significa que elas têm mais de um valor possível, como os possíveis resultados de uma jogada de dado\n",
        "\n"
      ],
      "metadata": {
        "id": "vRDbv4bhBr-q"
      }
    },
    {
      "cell_type": "markdown",
      "source": [
        "\n",
        "**Bernoulli Naive Bayes**\n",
        "\n",
        "usado quando as variáveis independentes são discretas, mas apenas dois valores são possíveis, como os possíveis resultados de jogar uma moeda (binario).\n"
      ],
      "metadata": {
        "id": "oqFstHJiBxqD"
      }
    },
    {
      "cell_type": "markdown",
      "source": [
        "\n",
        "**Complement Naive Bayes**\n",
        "\n",
        "é um caso específico para problemas multinomais aplicado a bases de dados desbalanceadas, ou seja, quando as variáveis de saída têm probabilidades distintas.\n"
      ],
      "metadata": {
        "id": "SEY2PU2cBuu-"
      }
    },
    {
      "cell_type": "code",
      "source": [
        "from sklearn.datasets import load_iris\n",
        "from sklearn.model_selection import train_test_split\n",
        "from sklearn.naive_bayes import GaussianNB\n",
        "from sklearn.metrics import accuracy_score, classification_report, confusion_matrix\n",
        "\n",
        "iris = load_iris()\n",
        "X = iris.data  # Matriz de características (medidas)\n",
        "y = iris.target  # Vetor de rótulos (espécies)\n",
        "\n",
        "print(\"Nomes das características: \", iris.feature_names)  # Nomes das características\n",
        "print(\"Nomes das espécies: \", iris.target_names)  # Nomes das espécies\n",
        "\n",
        "X_train, X_test, y_train, y_test = train_test_split(X, y, test_size=0.3, random_state=42)\n",
        "\n",
        "model = GaussianNB()\n",
        "model.fit(X_train, y_train)\n",
        "\n",
        "y_pred = model.predict(X_test)\n",
        "accuracy = accuracy_score(y_test, y_pred)\n",
        "\n",
        "print(f'Acurácia: {accuracy:.2f}')"
      ],
      "metadata": {
        "id": "EmUmVHyZUYVs",
        "outputId": "52d64432-baa2-410f-b28e-8213a0a0eb0f",
        "colab": {
          "base_uri": "https://localhost:8080/"
        }
      },
      "execution_count": 18,
      "outputs": [
        {
          "output_type": "stream",
          "name": "stdout",
          "text": [
            "Nomes das características:  ['sepal length (cm)', 'sepal width (cm)', 'petal length (cm)', 'petal width (cm)']\n",
            "Nomes das espécies:  ['setosa' 'versicolor' 'virginica']\n",
            "Acurácia: 0.98\n"
          ]
        }
      ]
    },
    {
      "cell_type": "code",
      "source": [
        "from sklearn.datasets import load_iris\n",
        "from sklearn.model_selection import train_test_split\n",
        "from sklearn.naive_bayes import GaussianNB\n",
        "from sklearn.neighbors import KNeighborsClassifier\n",
        "from sklearn.metrics import accuracy_score, classification_report, confusion_matrix\n",
        "\n",
        "iris = load_iris()\n",
        "X = iris.data  # Matriz de características (medidas)\n",
        "y = iris.target  # Vetor de rótulos (espécies)\n",
        "\n",
        "print(\"Nomes das características: \", iris.feature_names)  # Nomes das características\n",
        "print(\"Nomes das espécies: \", iris.target_names)  # Nomes das espécies\n",
        "\n",
        "X_train, X_test, y_train, y_test = train_test_split(X, y, test_size=0.3, random_state=42)\n",
        "\n",
        "model = KNeighborsClassifier(n_neighbors=3)\n",
        "model.fit(X_train, y_train)\n",
        "\n",
        "y_pred = model.predict(X_test)\n",
        "accuracy = accuracy_score(y_test, y_pred)\n",
        "\n",
        "print(f'Acurácia: {accuracy:.2f}')"
      ],
      "metadata": {
        "id": "OlFi2j4-UY67",
        "outputId": "7c8c9f2d-e81e-45dd-d3b0-871fb79ca1a7",
        "colab": {
          "base_uri": "https://localhost:8080/"
        }
      },
      "execution_count": 19,
      "outputs": [
        {
          "output_type": "stream",
          "name": "stdout",
          "text": [
            "Nomes das características:  ['sepal length (cm)', 'sepal width (cm)', 'petal length (cm)', 'petal width (cm)']\n",
            "Nomes das espécies:  ['setosa' 'versicolor' 'virginica']\n",
            "Acurácia: 1.00\n"
          ]
        }
      ]
    },
    {
      "cell_type": "markdown",
      "source": [
        "#Extra\n"
      ],
      "metadata": {
        "id": "nAu5hLVpstAy"
      }
    },
    {
      "cell_type": "markdown",
      "source": [
        "Procure utilizar o Naive Bayes nos seguintes dataset\n",
        "\n",
        "* Conjunto de Dados de Diabetes (Pima Indians Diabetes Database)\n",
        "* Conjunto de Dados de Câncer de Mama\n",
        "* Conjunto de Dados de Vinhos (Wine Data)\n",
        "* Conjunto de Dados de Qualidade do Vinho (Wine Quality Data)\n"
      ],
      "metadata": {
        "id": "-ruB8DMos-NM"
      }
    },
    {
      "cell_type": "code",
      "source": [],
      "metadata": {
        "id": "HAM9Jp5dsvIK"
      },
      "execution_count": 19,
      "outputs": []
    }
  ],
  "metadata": {
    "kernelspec": {
      "display_name": "Python 3",
      "language": "python",
      "name": "python3"
    },
    "language_info": {
      "codemirror_mode": {
        "name": "ipython",
        "version": 3
      },
      "file_extension": ".py",
      "mimetype": "text/x-python",
      "name": "python",
      "nbconvert_exporter": "python",
      "pygments_lexer": "ipython3",
      "version": "3.7.3"
    },
    "colab": {
      "provenance": [],
      "include_colab_link": true
    }
  },
  "nbformat": 4,
  "nbformat_minor": 0
}