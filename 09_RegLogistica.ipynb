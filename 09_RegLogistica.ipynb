{
  "cells": [
    {
      "cell_type": "markdown",
      "metadata": {
        "id": "view-in-github",
        "colab_type": "text"
      },
      "source": [
        "<a href=\"https://colab.research.google.com/github/luadeprataart/Reconhecimento-de-Padroes/blob/main/09_RegLogistica.ipynb\" target=\"_parent\"><img src=\"https://colab.research.google.com/assets/colab-badge.svg\" alt=\"Open In Colab\"/></a>"
      ]
    },
    {
      "cell_type": "markdown",
      "metadata": {
        "id": "JKHss0zBSoPt"
      },
      "source": [
        "## Regressão Logística"
      ]
    },
    {
      "cell_type": "markdown",
      "metadata": {
        "id": "XkXuQ4gTSoPv"
      },
      "source": [
        "De volta pro assunto de classificação, o objetivo desse conteúdo é explorar a representação de texto em computadores e utilizar regressão logística para categorizar os documentos. O problema apresentado é detectar se o review de um determinado filme foi positivo ou negativo dependendo do texto apenas, e para representá-los computacionalmente será utilizada a estratégia de bag of words, em seguida, os documentos vetorizados serão passados para uma regressão logística."
      ]
    },
    {
      "cell_type": "code",
      "execution_count": 27,
      "metadata": {
        "colab": {
          "base_uri": "https://localhost:8080/"
        },
        "id": "2zGU6ZolSoPv",
        "outputId": "e3d05648-b501-473c-91de-30cfb63ea0c4"
      },
      "outputs": [
        {
          "output_type": "execute_result",
          "data": {
            "text/plain": [
              "Index(['id', 'sentiment', 'review'], dtype='object')"
            ]
          },
          "metadata": {},
          "execution_count": 27
        }
      ],
      "source": [
        "import pandas as pd\n",
        "import numpy  as np\n",
        "\n",
        "df = pd.read_csv('movie_reviews.tsv', sep='\\t', index_col=None)\n",
        "\n",
        "df.columns"
      ]
    },
    {
      "cell_type": "markdown",
      "metadata": {
        "id": "vEg-xHwOSoPx"
      },
      "source": [
        "Será chamado de X todo o texto que compõe o review, enquanto o rótulo será o \"sentimento\" de positivo (1) ou negativo (1)."
      ]
    },
    {
      "cell_type": "code",
      "execution_count": 28,
      "metadata": {
        "id": "v_yO5L18SoPx"
      },
      "outputs": [],
      "source": [
        "X = df.review\n",
        "y = df.sentiment"
      ]
    },
    {
      "cell_type": "code",
      "execution_count": 29,
      "metadata": {
        "colab": {
          "base_uri": "https://localhost:8080/"
        },
        "id": "Onb-dB9RSoPy",
        "outputId": "e65b4e4b-6625-4dfc-f975-6ba124023378"
      },
      "outputs": [
        {
          "output_type": "execute_result",
          "data": {
            "text/plain": [
              "(413,)"
            ]
          },
          "metadata": {},
          "execution_count": 29
        }
      ],
      "source": [
        "X.shape"
      ]
    },
    {
      "cell_type": "markdown",
      "metadata": {
        "id": "hECNNnG2SoPy"
      },
      "source": [
        "Para exemplificar o review, a seguir é mostrado o primeiro deles. São textos longos que contém a opinião de um usuário acerca de um filme que ele viu."
      ]
    },
    {
      "cell_type": "code",
      "execution_count": 30,
      "metadata": {
        "colab": {
          "base_uri": "https://localhost:8080/"
        },
        "id": "JmKDKupkSoPz",
        "outputId": "b004cf39-f8a3-4984-bfa0-8fea858ce27c"
      },
      "outputs": [
        {
          "output_type": "stream",
          "name": "stdout",
          "text": [
            "With all this stuff going down at the moment with MJ i've started listening to his music, watching the odd documentary here and there, watched The Wiz and watched Moonwalker again. Maybe i just want to get a certain insight into this guy who i thought was really cool in the eighties just to maybe make up my mind whether he is guilty or innocent. Moonwalker is part biography, part feature film which i remember going to see at the cinema when it was originally released. Some of it has subtle messages about MJ's feeling towards the press and also the obvious message of drugs are bad m'kay.Visually impressive but of course this is all about Michael Jackson so unless you remotely like MJ in anyway then you are going to hate this and find it boring. Some may call MJ an egotist for consenting to the making of this movie BUT MJ and most of his fans would say that he made it for the fans which if true is really nice of him.The actual feature film bit when it finally starts is only on for 20 minutes or so excluding the Smooth Criminal sequence and Joe Pesci is convincing as a psychopathic all powerful drug lord. Why he wants MJ dead so bad is beyond me. Because MJ overheard his plans? Nah, Joe Pesci's character ranted that he wanted people to know it is he who is supplying drugs etc so i dunno, maybe he just hates MJ's music.Lots of cool things in this like MJ turning into a car and a robot and the whole Speed Demon sequence. Also, the director must have had the patience of a saint when it came to filming the kiddy Bad sequence as usually directors hate working with one kid let alone a whole bunch of them performing a complex dance scene.Bottom line, this movie is for people who like MJ on one level or another (which i think is most people). If not, then stay away. It does try and give off a wholesome message and ironically MJ's bestest buddy in this movie is a girl! Michael Jackson is truly one of the most talented people ever to grace this planet but is he guilty? Well, with all the attention i've gave this subject....hmmm well i don't know because people can be different behind closed doors, i know this for a fact. He is either an extremely nice but stupid guy or one of the most sickest liars. I hope he is not the latter.\n"
          ]
        }
      ],
      "source": [
        "print(X[0])"
      ]
    },
    {
      "cell_type": "markdown",
      "metadata": {
        "id": "nyFK5_49SoPz"
      },
      "source": [
        "A representação de uma amostra dessa precisa ser vetorial para que matematicamente seja possível inferir algum padrão ou relação entre as palavras. Para isso, o primeiro passo normalmente é identificar o vocabulário, ou seja, o conjunto das palavras que se apresentam nas amostras. No trecho a seguir, é apresentado o grupo das palavras mais frequentes em todas as amostras."
      ]
    },
    {
      "cell_type": "code",
      "execution_count": 31,
      "metadata": {
        "colab": {
          "base_uri": "https://localhost:8080/"
        },
        "id": "fXAklZ4QSoPz",
        "outputId": "2fe42035-c0e8-4fd8-ec92-b7aaf46d5146"
      },
      "outputs": [
        {
          "output_type": "stream",
          "name": "stdout",
          "text": [
            "[('the', 5108), ('a', 2621), ('and', 2515), ('of', 2366), ('to', 2150), ('is', 1748), ('in', 1470), ('this', 1133), ('i', 1125), ('that', 1070), ('it', 1036), ('with', 764), ('for', 718), ('as', 708), ('but', 685), ('was', 676), ('on', 529), ('movie', 501), ('film', 492), ('are', 473), ('his', 430), ('not', 427), ('be', 421), ('have', 419), ('you', 418), ('one', 400), ('by', 379), ('at', 374), ('he', 359), ('all', 350), ('an', 350), ('from', 328), ('who', 318), ('so', 300), ('her', 299), ('like', 288), ('some', 285), ('has', 276), ('about', 272), ('just', 270), (\"it's\", 254), ('or', 244), ('out', 243), ('if', 242), ('they', 237), ('there', 230), ('very', 223), ('when', 214), ('their', 202), ('more', 201)]\n"
          ]
        }
      ],
      "source": [
        "from collections import Counter\n",
        "\n",
        "# reune todas as palavras/tokens das amostras\n",
        "\n",
        "palavras = []\n",
        "for s in X.values:\n",
        "    palavras += s.lower().split()\n",
        "\n",
        "dicionario = Counter(palavras)\n",
        "print(dicionario.most_common(50))"
      ]
    },
    {
      "cell_type": "markdown",
      "metadata": {
        "id": "963iAKb7SoP0"
      },
      "source": [
        "A construção do dicionário pode incluir todas as palavras ou pode ser feita a partir de um conjunto de palavra apenas, reduzindo a quantidade de dados e, por consequência, o processamento necessário para executar os métodos de aprendizagem. No exemplo a seguir, o dicionário é construído considerando as palavras mais comuns."
      ]
    },
    {
      "cell_type": "code",
      "execution_count": 32,
      "metadata": {
        "colab": {
          "base_uri": "https://localhost:8080/"
        },
        "id": "18kxyp4dSoP0",
        "outputId": "0e838496-3369-49d1-906d-730f7b9f8acc"
      },
      "outputs": [
        {
          "output_type": "stream",
          "name": "stdout",
          "text": [
            "['the', 'a', 'and', 'of', 'to', 'is', 'in', 'this', 'i', 'that', 'it', 'with', 'for', 'as', 'but', 'was', 'on', 'movie', 'film', 'are', 'his', 'not', 'be', 'have', 'you', 'one', 'by', 'at', 'he', 'all', 'an', 'from', 'who', 'so', 'her', 'like', 'some', 'has', 'about', 'just', \"it's\", 'or', 'out', 'if', 'they', 'there', 'very', 'when', 'their', 'more', 'good', 'only', 'would', 'what', 'even', 'no', 'really', 'up', 'my', 'which', 'she', 'how', 'had', '-', 'can', 'into', 'will', 'than', 'see', 'get', 'other', 'been', 'were', 'make', 'because', 'its', 'people', 'much', 'first', 'most', 'we', 'also', 'me', 'could', \"don't\", 'story', 'bad', 'time', 'being', 'then', 'do', 'great', 'any', 'after', 'many', 'made', 'well', '&', 'think', 'way', 'little', 'never', 'over', 'where', 'films', 'watch', 'does', 'two', 'these', 'through', 'while', 'your', 'did', 'movies', 'off', 'know', 'them', 'characters', 'seen', \"i'm\", 'show', 'should', 'best', 'him', 'love', 'movie.', 'acting', 'those', 'ever', 'it.', 'still', 'such', 'character', 'say', 'why', 'another', 'few', 'going', 'too', 'years', \"that's\", 'every', 'scene', 'thing', 'man', 'actors', 'give', 'plot', 'watching', 'scenes', 'better', \"didn't\", \"doesn't\", 'film.', 'old', 'before', 'film,', 'between', 'part', 'almost', 'something', 'end', 'same', 'go', 'look', 'pretty', 'makes', 'horror', 'whole', 'nothing', 'things', 'without', 'lot', 'actually', 'new', 'last', 'want', 'find', 'movie,', 'us', 'rather', \"i've\", 'big', \"there's\", 'got', 'action', 'down', 'though', 'back', 'seems', 'may', 'cast', 'saw', 'work', \"can't\", 'young', 'both', 'director', 'goes', 'found', 'interesting', 'now', 'must', 'thought', 'around', \"he's\", 'take', 'come', 'here', 'quite', 'hard', 'since', 'probably', 'always', 'having', 'am', 'guy', 'looks', 'real', 'life', 'gets', 'worst', 'worth', 'making', 'different', 'comes', 'times', 'far', 'point', 'minutes', 'kind', 'own', 'looking', 'long', 'however,', 'american', 'our', 'least', 'performance', 'fact', 'original', 'money', 'bit', 'reason', 'tv', 'believe', 'feel', 'main', 'came', 'high', 'anything', 'play', 'it,', \"you're\", 'might', 'put', 'star', 'until', 'script', 'completely', 'role', 'set', 'anyone', 'try', 'truly', 'everyone', 'especially', 'plays', 'although', 'trying', \"isn't\", 'comedy', 'zombie', 'maybe', 'read', 'during', 'sort', 'sense', 'fun', 'each', 'played', 'three', 'true', 'human', 'video', 'enough', 'shot', 'next', 'tries', 'idea', 'right', 'family', 'starts', 'against', 'seem', 'rest', 'keep', 'second', 'live', 'night', 'course', 'doing', 'someone', 'sure', 'black', 'funny', 'couple', 'poor', 'supposed', 'away', 'start', 'everything', 'special', 'need', 'despite', 'time,', 'camera', 'excellent', 'watched', '--', \"wasn't\", '\\\\\"the', 'tell', 'series', 'left', 'dead', 'let', 'well,', 'hope', 'small', 'takes', 'seeing', 'day', '3', '10', 'actor', 'finally', 'behind', 'final', 'title', 'playing', 'several', 'effects', 'waste', 'dvd', 'along', 'together', 'less', 'year', 'nice', 'war', 'enjoyed', 'totally', 'half', 'woman', 'simply', 'that,', 'book', 'absolutely', 'done', \"film's\", 'style', 'name', 'shows', 'joe', 'performances', 'music', 'sometimes', 'and,', 'close', \"they're\", '(and', 'become', 'top', 'definitely', 'house', '2', 'hollywood', 'often', 'imagine', 'father', 'mary', 'understand', 'sex', 'world', 'getting', 'already', 'yet', 'gave', 'stars', 'lots', 'based', 'used', 'early', 'felt', 'soon', 'ending', 'late', 'attempt', 'episode', 'again', 'fan', 'good.', 'bunch', 'gore', 'moments', 'instead', 'friend', 'all,', 'worse', 'low', 'budget', 'place', 'running', 'dark', 'person', 'wrong', 'beautiful', 'awful', 'said', 'able', 'given', 'police', 'use', 'went', 'once', 'films,', 'stupid', 'entertaining', 'others', 'run', 'kids', 'john', 'picture', 'directed', 'except', 'piece', 'short', 'time.', 'favorite', 'complete', 'across', 'fine', 'guess', 'gay', 'gives', 'quality', 'job', 'boy', 'audience', 'head', 'fans', 'working', 'face', \"couldn't\", 'sound', 'body', 'one.', 'bad,', 'school', 'production', 'women', '(the', 'whose', 'seemed', 'entire', \"aren't\", 'home', 'typical', 'line', 'race', 'girl', 'them.', '(i', 'prom', 'zombies', 'mind', 'remember', 'call', 'me.', 'wanted', 'either', 'me,', 'turns', 'course,', 'boring', 'opening', '\\x96', 'that.', 'one,', 'good,', 'lead', 'lost', 'drama', \"she's\", 'this.', 'men', 'called', 'is,', 'kill', 'save', 'becomes', 'well.', 'hour', 'falls', 'loved', \"you'll\", 'lou', 'out.', 'mr.', 'group', 'greatest', 'heard', 'serious', 'later', 'took', 'brilliant', 'itself', 'town', 'past', 'order', 'full', 'written', 'number', 'british', 'ben', \"wouldn't\", 'fantastic', 'screen', 'works', 'known', 'none', 'problem', 'sexual', 'major', 'deal', 'mostly', 'turn', 'parts', 'killer', 'begin', 'saying', 'five', 'involved', 'cheap', 'terrible', 'seen.', 'movies.', 'forced', 'lines', 'help', 'lack', 'team', 'flick', 'started', 'cinema', 'obvious', 'hate', 'wants', 'usually', '\\\\the', 'classic', 'giving', 'blood', 'entertainment', 'care', \"won't\", 'throughout', 'avoid', 'ends', 'recommend', 'kelly', 'so,', \"'the\", \"let's\", 'forget', 'among', 'people,', 'else', 'cannot', 'interest', 'story.', 'laugh', 'horrible', 'means', 'art', 'davis', 'expect', 'perhaps', 'bad.', 'including', 'death', 'class', 'strange', 'city', 'type', 'feeling', 'beyond', 'extremely', 'version', 'fight', 'slow', 'david', 'modern', 'them,', 'local', 'italian', 'liked', 'story,', 'evil', 'clearly', 'taking', 'mean', 'buy', 'average', 'taken', 'move', 'beginning', 'strong', 'eyes', 'life.', 'writing', 'difficult', 'children', 'view', 'brought', 'way.', 'mother', 'further', 'turned', 'superb', 'credits', 'needed', 'characters,', 'add', 'bring', 'country', 'age', 'certainly', 'public', 'sequence', 'turning', 'stay', 'important', 'third', 'provides', 'appears', 'somewhat', 'slightly', 'sister', 'white', 'single', 'change', 'named', 'peter', 'fact,', 'emotions', 'king', 'finds', 'end,', 'end.', 'open', 'history', 'enjoy', 'oscar', 'yes,', 'richard', 'chance', 'highly', 'female', 'japanese', 'again,', 'living', 'wife', 'light', 'him,', 'stories', 'manages', 'happen', 'cowboy', '4', 'energy', 'documentary', 'again.', 'michael', 'car', 'tom', 'elements', 'way,', 'all.', 'song', 'looked', 'on.', '(or', 'case', 'girls', 'sequel', 'wonder', 'experience', 'mention', 'upon', 'easily', 'state', \"haven't\", 'english', 'dialogue', \"i'll\", \"weren't\", 'guys', 'genre', 'hit', 'sets', 'four', 'overall', 'pure', 'feels', 'but,', \"i'd\", 'too.', 'side', 'won', 'act', 'stand', 'years,', 'music,', 'certain', 'towards', 'message', 'drugs', 'kid', 'alone', 'themselves', '.', 'using', 'rating', 'decided', 'review', \"we're\", 'french', 'better.', 'due', 'talk', 'example', 'supporting', '1', 'situation', 'leads', 'above', 'match', 'is.', 'room', 'happy', 'friends', 'happened', 'doubt', 'himself', 'movies,', 'wonderful', 'here.', 'create', 'parents', 'fall', 'kept', 'thinking', 'tried', 'however', 'simple', 'mr', 'casting', 'characters.', 'fast', 'hell', 'acting,', 'oh', 'matter', 'within', 'lee', 'considering', 'told', 'huge', 'here,', 'stop', 'adult', 'career', 'humor', 'daughter', 'match.', 'caine', 'also,', 'effort', 'agree', 'exciting', 'ridiculous', 'reading', 'near', 'character,', 'needs', 'theme', 'form', 'glad', 'showing', 'happens', 'decent', 'social', 'note', 'effect', 'setting', 'songs', 'york', '(in', 'cop', 'him.', 'hours', 'son', 'her.', 'gone', 'under', 'yourself', 'tension', 'present', 'unusual', 'knew', 'eventually', 'roles', 'indeed', 'screenplay', 'helped', 'somehow', 'reality', 'amazing', 'sees', 'figure', 'vampire', 'plenty', 'expecting', 'child', 'producers', 'unfortunately,', 'stage', 'broken', 'meet', 'learn', 'this,', 'jokes', 'brings', 'perfect', 'talent', 'presence', 'western', 'myself', 'episodes', 'season', 'power', 'made.', 'surprised', 'talking', 'thus', 'coming', 'jane', 'era', 'stuff', 'boring.', 'attention', 'obviously', 'rate', 'easy', ',', 'hardly', 'appear', 'bloody', 'badly', 'bottom', 'nature', 'particular', 'fear', 'ten', 'off,', 'cause', 'twist', 'cheesy', 'background', 'uses', 'successful', 'comment', 'comic', 'intense', 'editing', 'problems', 'rent', 'miss', 'bill', 'stephen', 'empty', 'award', 'total', 'direction', 'days', 'premise', 'atmosphere', 'viewers', 'novel', 'wait', 'lame', 'spend', 'possible', 'normal', 'compared', 'writer', 'wish', 'stick', 'sitting', \"man's\", 'weird', 'game', 'herself', \"what's\", 'funny.', 'apparently', 'invisible', 'middle', 'explain', 'meets', 'material', 'romantic', 'viewing', 'judge', 'natural', 'silly', 'says', 'weak', 'costumes', 'shots', 'apart', 'hand', 'subject', 'particularly', 'minor', 'killed', 'kills', 'killing', 'attempts', 'copy', 'cold', 'tells', 'political', 'fate', 'truth', '–', 'enough,', 'leave', 'character.', 'there,', 'cool', 'whether', 'feature', '20', 'criminal', 'filming', 'talented', 'delivers', 'scene.', 'george', 'previous', 'films.', 'provided', 'mentioned', 'anyway,', 'violence', 'gun', 'names', 'bob', 'success', 'generally', 'famous', 'expected', 'trip', 'minutes,', 'battle', 'more.', 'events', 'paid', 'scenes.', 'emotional', 'her,', 'somewhere', 'heston', 'male', 'fair', 'military', 'mad', 'sit', 'paul', 'makers', 'enjoyable', 'die', '/', 'box', 'points', 'ways', 'funny,']\n"
          ]
        }
      ],
      "source": [
        "# separa qual sera o vocabulario\n",
        "\n",
        "vocab = []\n",
        "for palavra, contagem in dicionario.most_common(1000):\n",
        "    vocab.append(palavra)\n",
        "\n",
        "print(vocab)"
      ]
    },
    {
      "cell_type": "markdown",
      "metadata": {
        "id": "9fpZ_JsmSoP0"
      },
      "source": [
        "Após a criação do dicionário, todas as amostras serão representadas por um vetor do tamanho do dicionário. Assim, cada amostra carregará a informação se uma determinada palavra do dicionário aparece em sua composição ou não."
      ]
    },
    {
      "cell_type": "code",
      "execution_count": 33,
      "metadata": {
        "id": "qIpzWAAPSoP1"
      },
      "outputs": [],
      "source": [
        "# cria a amostra marcando quais palavras aparecem naquela sentença (bag of words)\n",
        "\n",
        "X_bow = []\n",
        "for document in df.review.values:\n",
        "    sample = []\n",
        "    for p in vocab:\n",
        "        if p in document:\n",
        "            sample.append(1.0)\n",
        "        else:\n",
        "            sample.append(0.0)\n",
        "    X_bow.append(sample)\n",
        "\n",
        "X_bow = np.array(X_bow)"
      ]
    },
    {
      "cell_type": "markdown",
      "metadata": {
        "id": "ydXQ-9L1SoP1"
      },
      "source": [
        "No trecho a seguir é exibida a quantidade de 1s que aparecem por amostra, ou seja, quantas palavras da amostra foram encontradas no dicionário."
      ]
    },
    {
      "cell_type": "code",
      "execution_count": 34,
      "metadata": {
        "colab": {
          "base_uri": "https://localhost:8080/"
        },
        "id": "tDK12YiDSoP1",
        "outputId": "8a4770f0-efa2-4f17-cea0-991a5effb815"
      },
      "outputs": [
        {
          "output_type": "stream",
          "name": "stdout",
          "text": [
            "(413, 1000)\n",
            "[1. 1. 1. 1. 1. 1. 1. 1. 1. 1. 1. 1. 1. 1. 1. 1. 1. 1. 1. 1. 1. 1. 1. 1.\n",
            " 1. 1. 0. 1. 1. 1. 1. 0. 1. 1. 1. 1. 1. 1. 1. 1. 0. 1. 1. 1. 0. 1. 0. 1.\n",
            " 0. 0. 0. 1. 1. 0. 0. 1. 1. 1. 1. 1. 0. 0. 1. 0. 1. 1. 0. 0. 1. 1. 1. 0.\n",
            " 0. 1. 1. 0. 1. 0. 0. 1. 1. 1. 1. 0. 1. 0. 1. 0. 0. 1. 1. 0. 1. 0. 0. 1.\n",
            " 1. 0. 1. 1. 0. 0. 1. 0. 0. 1. 1. 0. 0. 0. 0. 0. 0. 0. 1. 1. 1. 0. 0. 0.\n",
            " 0. 0. 1. 1. 0. 0. 0. 0. 1. 0. 0. 0. 1. 1. 0. 1. 0. 1. 0. 0. 0. 0. 1. 1.\n",
            " 0. 0. 1. 0. 1. 0. 0. 0. 0. 0. 0. 0. 0. 0. 1. 0. 0. 0. 0. 1. 0. 0. 0. 0.\n",
            " 1. 0. 1. 0. 0. 0. 0. 0. 1. 1. 0. 1. 0. 1. 0. 0. 1. 0. 1. 1. 0. 0. 1. 0.\n",
            " 0. 1. 0. 0. 0. 1. 0. 0. 0. 1. 1. 1. 0. 0. 0. 0. 1. 0. 0. 0. 0. 0. 0. 1.\n",
            " 1. 0. 1. 0. 0. 0. 0. 1. 1. 0. 0. 0. 0. 1. 0. 1. 0. 0. 0. 0. 1. 0. 0. 1.\n",
            " 1. 0. 1. 0. 0. 0. 1. 0. 1. 0. 0. 0. 0. 0. 0. 0. 1. 0. 0. 0. 0. 0. 0. 1.\n",
            " 1. 0. 0. 0. 0. 0. 0. 0. 0. 1. 0. 0. 0. 0. 0. 0. 0. 0. 1. 0. 0. 0. 0. 0.\n",
            " 0. 0. 0. 0. 1. 0. 0. 0. 0. 0. 0. 0. 1. 0. 0. 0. 0. 0. 0. 0. 0. 1. 1. 0.\n",
            " 0. 0. 0. 0. 0. 0. 1. 0. 0. 0. 0. 0. 0. 1. 1. 0. 1. 0. 0. 0. 0. 0. 0. 0.\n",
            " 1. 1. 1. 0. 0. 0. 0. 0. 0. 0. 0. 1. 0. 1. 1. 0. 0. 0. 0. 0. 0. 0. 0. 0.\n",
            " 0. 0. 0. 0. 0. 0. 1. 0. 0. 1. 0. 0. 0. 0. 0. 0. 1. 0. 0. 0. 0. 0. 0. 0.\n",
            " 0. 0. 0. 0. 1. 0. 0. 0. 0. 0. 0. 0. 0. 0. 0. 0. 1. 1. 0. 1. 0. 0. 0. 0.\n",
            " 0. 0. 0. 0. 0. 0. 0. 0. 0. 0. 0. 0. 0. 0. 0. 1. 0. 0. 0. 1. 0. 0. 0. 0.\n",
            " 0. 0. 0. 0. 0. 0. 0. 0. 0. 0. 0. 0. 0. 0. 0. 0. 0. 0. 0. 1. 1. 0. 0. 0.\n",
            " 0. 0. 0. 0. 0. 0. 0. 0. 0. 0. 0. 0. 0. 1. 1. 1. 0. 0. 0. 0. 1. 1. 1. 1.\n",
            " 1. 1. 0. 0. 0. 1. 0. 0. 0. 0. 0. 0. 0. 0. 0. 0. 1. 0. 0. 0. 0. 0. 0. 0.\n",
            " 0. 0. 0. 0. 0. 0. 0. 0. 1. 0. 0. 0. 0. 0. 0. 0. 0. 0. 0. 0. 0. 0. 0. 0.\n",
            " 0. 0. 0. 0. 0. 0. 0. 0. 0. 1. 0. 0. 0. 0. 0. 0. 0. 0. 0. 0. 0. 0. 0. 0.\n",
            " 0. 0. 1. 1. 1. 1. 1. 1. 0. 0. 0. 0. 0. 0. 0. 0. 0. 0. 0. 0. 1. 0. 0. 0.\n",
            " 0. 0. 0. 0. 0. 0. 0. 0. 0. 1. 0. 0. 0. 0. 0. 0. 0. 0. 0. 0. 1. 1. 1. 0.\n",
            " 0. 0. 0. 0. 0. 0. 0. 0. 0. 0. 0. 0. 0. 0. 0. 0. 0. 0. 0. 0. 0. 0. 0. 0.\n",
            " 0. 0. 1. 0. 0. 0. 0. 0. 0. 0. 0. 0. 0. 1. 0. 0. 1. 1. 1. 0. 0. 0. 0. 0.\n",
            " 0. 0. 0. 0. 0. 0. 0. 0. 0. 1. 0. 0. 0. 0. 0. 0. 0. 0. 0. 0. 0. 0. 0. 0.\n",
            " 0. 0. 0. 0. 0. 0. 0. 0. 0. 0. 1. 1. 0. 1. 1. 0. 0. 0. 0. 0. 0. 0. 0. 0.\n",
            " 0. 0. 0. 0. 0. 0. 0. 0. 0. 0. 0. 0. 0. 0. 0. 0. 0. 0. 0. 0. 0. 0. 0. 0.\n",
            " 0. 1. 0. 0. 1. 1. 1. 1. 1. 1. 1. 0. 1. 0. 0. 0. 0. 0. 0. 0. 0. 0. 0. 0.\n",
            " 0. 0. 0. 0. 0. 0. 0. 0. 0. 0. 0. 0. 0. 0. 0. 0. 0. 0. 0. 0. 0. 0. 0. 0.\n",
            " 0. 0. 0. 0. 0. 0. 0. 0. 0. 0. 0. 0. 1. 0. 0. 0. 0. 0. 0. 0. 0. 0. 0. 0.\n",
            " 0. 0. 0. 0. 0. 0. 1. 0. 0. 0. 0. 0. 0. 0. 0. 0. 0. 0. 0. 1. 0. 1. 0. 0.\n",
            " 0. 0. 0. 0. 0. 0. 0. 0. 0. 0. 0. 0. 0. 0. 0. 0. 0. 0. 0. 0. 0. 0. 0. 0.\n",
            " 0. 0. 0. 0. 0. 0. 1. 0. 0. 0. 0. 0. 1. 0. 0. 0. 0. 0. 0. 0. 1. 1. 1. 0.\n",
            " 0. 0. 1. 0. 0. 0. 0. 0. 0. 0. 0. 1. 0. 1. 0. 0. 0. 0. 0. 0. 0. 0. 0. 0.\n",
            " 1. 0. 0. 0. 0. 0. 0. 0. 0. 0. 0. 0. 0. 0. 0. 0. 0. 0. 0. 0. 0. 0. 0. 0.\n",
            " 0. 0. 0. 0. 0. 0. 0. 0. 0. 0. 0. 0. 0. 0. 0. 0. 0. 0. 0. 0. 0. 0. 1. 0.\n",
            " 0. 0. 0. 0. 0. 0. 0. 0. 0. 0. 0. 0. 0. 0. 0. 1. 1. 1. 1. 1. 0. 1. 1. 0.\n",
            " 1. 0. 0. 0. 0. 0. 0. 0. 0. 0. 0. 0. 0. 0. 0. 0. 0. 0. 0. 0. 0. 0. 0. 0.\n",
            " 0. 0. 0. 0. 0. 1. 0. 0. 0. 0. 0. 0. 0. 0. 0. 0.]\n",
            "[216. 110. 193. 185. 205.  75. 107.  94. 104.  35.  55. 120. 173. 108.\n",
            "  96. 141. 193. 235. 138. 102. 123. 170. 132.  47.  40. 104. 133. 163.\n",
            " 264. 105.  57.  94.  98. 168. 182. 165. 110.  85. 124. 233. 153. 101.\n",
            "  83. 128. 124.  89.  69. 106. 161. 146. 115.  77. 127.  91.  53. 104.\n",
            " 100. 124.  73. 200. 249. 142. 100.  95.  98.  61. 331.  60. 110.  92.\n",
            " 111. 186. 120. 135. 100.  88. 166.  81. 109. 103. 110. 156. 177. 147.\n",
            " 228. 172. 168.  59. 100.  80.  75.  80.  94.  97. 107. 103. 116.  74.\n",
            " 139.  75. 143. 328.  87. 114.  46.  77.  91.  90. 177. 222. 119. 142.\n",
            " 176.  79.  95. 146.  80. 103.  87.  94. 133. 190.  90. 154. 196. 308.\n",
            " 209. 155.  92. 163. 113. 258. 111. 247. 217.  38. 182. 116. 119.  82.\n",
            "  98. 136. 119. 114. 155. 134. 117. 157. 153. 104.  77. 113.  93. 156.\n",
            " 169.  99. 128. 159. 221. 120. 192. 126.  95. 124. 146.  78. 297. 100.\n",
            "  97. 114. 112. 142. 149.  85. 200.  98. 199.  92. 114. 142. 211. 219.\n",
            " 184.  96. 129. 101.  96. 197.  95. 114. 259.  82.  56.  98.  76. 138.\n",
            "  68. 156. 136.  72.  80. 133.  82. 155. 304. 133.  80. 138. 132.  96.\n",
            " 109. 247. 112.  81. 322.  82. 154. 140. 121. 104. 103. 156. 214.  78.\n",
            " 120. 165. 207.  82. 156. 117. 226. 154. 101.  96.  77. 192. 107. 297.\n",
            " 107. 103. 144. 126.  73. 240. 119. 147.  62. 110. 106. 107. 132. 150.\n",
            " 135. 102. 117. 232. 139. 114. 142. 120. 234. 146.  94. 187. 115. 179.\n",
            " 215. 124. 103. 165. 225.  99.  99. 330. 106. 194. 202. 104. 125. 142.\n",
            " 212. 191. 110. 145.  80.  81. 213. 144. 107.  85. 124. 108.  90.  91.\n",
            "  73. 112. 106. 109. 157. 245. 135. 110. 101. 108. 146. 164. 297. 237.\n",
            " 191. 103. 132. 181. 266. 115.  60. 159. 132. 133. 172.  39. 105. 194.\n",
            "  88. 133. 125. 148.  99.  54.  67. 126. 106. 106. 125. 126. 155. 173.\n",
            "  89. 277. 180. 125.  64.  50.  86. 122. 175. 249. 138.  86. 111. 117.\n",
            "  34. 146.  88.  92. 104. 194.  29.  63.  91.  98. 110. 113. 208. 251.\n",
            " 123.  86. 172. 102. 124. 103.  99.  95.  79. 272. 214. 218. 104. 211.\n",
            " 123. 171. 129. 102.  68.  90. 153. 129. 140. 136.  44.  98. 106. 242.\n",
            " 148. 105. 183. 106.  97. 155.  93. 131.  72.  58. 129. 155.  69. 178.\n",
            " 114.  90. 100. 183. 205. 153.  94.]\n"
          ]
        }
      ],
      "source": [
        "print(X_bow.shape)\n",
        "print(X_bow[0])\n",
        "print(np.sum(X_bow,axis=1))"
      ]
    },
    {
      "cell_type": "code",
      "execution_count": 35,
      "metadata": {
        "colab": {
          "base_uri": "https://localhost:8080/"
        },
        "id": "NEz7gDuISoP1",
        "outputId": "b4446bde-024a-457d-cb62-941497c34b7e"
      },
      "outputs": [
        {
          "output_type": "stream",
          "name": "stdout",
          "text": [
            "(276, 1000)\n",
            "(137, 1000)\n",
            "(276,)\n",
            "(137,)\n"
          ]
        }
      ],
      "source": [
        "# separa em treino e teste\n",
        "\n",
        "from sklearn.model_selection import train_test_split\n",
        "\n",
        "X_train, X_test, y_train, y_test = train_test_split(X_bow, y, test_size=0.33, random_state=42)\n",
        "\n",
        "print(X_train.shape)\n",
        "print(X_test.shape)\n",
        "print(y_train.shape)\n",
        "print(y_test.shape)"
      ]
    },
    {
      "cell_type": "markdown",
      "metadata": {
        "id": "5vHnB2jwSoP2"
      },
      "source": [
        "As seguintes funções implementam a regressão logística sem utilização de alguma biblioteca pronta como scikit-learn."
      ]
    },
    {
      "cell_type": "code",
      "execution_count": 36,
      "metadata": {
        "id": "3qBhePr1SoP2"
      },
      "outputs": [],
      "source": [
        "# regressão logística e funções auxiliares\n",
        "\n",
        "def sigmoid(z):\n",
        "    return 1 / (1 + np.exp(-z))\n",
        "\n",
        "def loss(model, X, y):\n",
        "    X = add_bias(X)\n",
        "    z = np.dot(X, model)\n",
        "    h = sigmoid(z)\n",
        "    return (-y * np.log(h) - (1 - y) * np.log(1 - h)).mean()\n",
        "\n",
        "def add_bias(X):\n",
        "    bias = np.ones((X.shape[0], 1))\n",
        "    return np.concatenate((bias, X), axis=1)\n",
        "\n",
        "def fit(X, y, lr = 0.01, num_iter = 5):\n",
        "\n",
        "    X = add_bias(X)\n",
        "\n",
        "    theta = np.zeros(X.shape[1])\n",
        "\n",
        "    for _ in range(num_iter):\n",
        "        z = np.dot(X, theta)\n",
        "        h = sigmoid(z)\n",
        "        gradient = np.dot(X.T, (h - y)) / y.size\n",
        "        theta -= lr * gradient\n",
        "\n",
        "    return theta\n",
        "\n",
        "def predict(X, theta, threshold = 0.5):\n",
        "    X = add_bias(X)\n",
        "    return sigmoid(np.dot(X, theta)) >= threshold"
      ]
    },
    {
      "cell_type": "markdown",
      "metadata": {
        "id": "LRlY9cahSoP2"
      },
      "source": [
        "Em seguida, é necessário utilizar o método fit e o método predict, que foram criados para parecer com a nomenclatura adotada durante o curso em alinhamento com os nomes utilizados na biblioteca scikit-learn."
      ]
    },
    {
      "cell_type": "code",
      "execution_count": 37,
      "metadata": {
        "colab": {
          "base_uri": "https://localhost:8080/"
        },
        "id": "CgBt5Q0PSoP2",
        "outputId": "45b95a34-8dd2-43bd-c145-e19d4de5db4c"
      },
      "outputs": [
        {
          "output_type": "stream",
          "name": "stdout",
          "text": [
            "[ 0.02034556  0.08008777  0.02034556 -0.01056828 -0.06195841 -0.01300115\n",
            "  0.27798585  0.16968745 -0.66723662  0.02034556 -0.15532044  0.18003894\n",
            " -0.1430387  -0.37318872  0.00617439 -0.38430897 -0.27244968 -0.04887233\n",
            " -0.62610927  0.17093762  0.56631492  0.01298256 -0.70716765 -0.29323103\n",
            "  0.07745736  0.18768892 -0.30278551  0.09820493 -0.01743736  0.02034556]\n",
            "[ True  True False  True False False False  True False False False  True\n",
            "  True False  True False  True  True False  True  True False False  True\n",
            "  True False False False False  True False  True False  True False  True\n",
            " False  True False False False  True False False  True  True False False\n",
            "  True False  True False  True  True  True False  True  True False False\n",
            "  True False False  True  True  True False  True False  True False  True\n",
            " False False False False False False False False  True False  True False\n",
            " False  True False False  True False  True  True False  True  True  True\n",
            " False False  True False False False  True False  True  True False False\n",
            "  True  True False  True False  True False False  True  True False  True\n",
            " False False  True  True False False  True False  True  True False False\n",
            "  True  True False False  True]\n"
          ]
        },
        {
          "output_type": "execute_result",
          "data": {
            "text/plain": [
              "0.7591240875912408"
            ]
          },
          "metadata": {},
          "execution_count": 37
        }
      ],
      "source": [
        "model = fit(X_train, y_train, num_iter = 20000)\n",
        "print(model[:30])\n",
        "\n",
        "preds = predict(X_test, model)\n",
        "print(preds)\n",
        "(preds == y_test).mean()"
      ]
    },
    {
      "cell_type": "markdown",
      "metadata": {
        "id": "0NmvIQGfSoP3"
      },
      "source": [
        "E finalmente, uma comparação com a implementação do scikit-learn."
      ]
    },
    {
      "cell_type": "code",
      "execution_count": 38,
      "metadata": {
        "colab": {
          "base_uri": "https://localhost:8080/"
        },
        "id": "6MnU_rEiSoP3",
        "outputId": "70e4efbb-474f-481c-bda0-8d38f73f3d0d"
      },
      "outputs": [
        {
          "output_type": "stream",
          "name": "stdout",
          "text": [
            "0.7664233576642335\n"
          ]
        }
      ],
      "source": [
        "from sklearn.linear_model import LogisticRegression\n",
        "\n",
        "model = LogisticRegression()\n",
        "model.fit(X_train, y_train)\n",
        "preds = model.predict(X_test)\n",
        "\n",
        "print((preds == y_test).mean())\n",
        "\n",
        "#model.intercept_, model.coef_"
      ]
    },
    {
      "cell_type": "markdown",
      "source": [
        "### Previsão de Sobrevivência no Titanic com Regressão Logística\n",
        "\n",
        "**Descrição do Problema:**\n",
        "Neste exercício, seus alunos irão trabalhar com o famoso conjunto de dados do Titanic, que contém informações sobre os passageiros do Titanic e se eles sobreviveram ou não ao naufrágio. O objetivo é criar um modelo de regressão logística para prever a sobrevivência de passageiros com base em diversas características.\n",
        "\n",
        "**Passos:**\n",
        "\n",
        "**Passo 1: Preparação dos Dados**\n",
        "\n",
        "* Faça o download do conjunto de dados do Titanic (você pode encontrá-lo no canvas).\n",
        "* Carregue os dados em uma biblioteca de manipulação de dados, como o pandas.\n",
        "* Explore o conjunto de dados para entender suas características, como as colunas disponíveis, tipos de dados, valores ausentes, etc.\n",
        "* Faça a limpeza dos dados, tratando valores ausentes e convertendo variáveis categóricas em numéricas (usando codificação one-hot ou label encoding).\n",
        "\n",
        "**Passo 2: Análise Exploratória de Dados**\n",
        "\n",
        "* Realize uma análise exploratória dos dados para entender melhor a distribuição das variáveis e identificar tendências.\n",
        "* Crie visualizações, como gráficos de barras, histogramas e gráficos de dispersão, para investigar a relação entre as variáveis e a sobrevivência dos passageiros.\n",
        "\n",
        "**Passo 3: Preparação dos Dados para Modelagem**\n",
        "\n",
        "* Divida os dados em um conjunto de treinamento e um conjunto de teste para avaliar o desempenho do modelo.\n",
        "* Normalize ou padronize as variáveis numéricas, se necessário.\n",
        "* Defina a variável alvo (sobrevivência) e as variáveis preditoras.\n",
        "\n",
        "**Passo 4: Criação do Modelo de Regressão Logística**\n",
        "\n",
        "* Importe a biblioteca de aprendizado de máquina, como scikit-learn.\n",
        "* Crie um modelo de regressão logística usando o conjunto de treinamento.\n",
        "* Treine o modelo com os dados de treinamento.\n",
        "\n",
        "**Passo 5: Avaliação do Modelo**\n",
        "\n",
        "* Avalie o desempenho do modelo usando métricas como precisão, recall, F1-score e matriz de confusão.\n",
        "* Ajuste os hiperparâmetros do modelo, se necessário, para melhorar o desempenho.\n",
        "\n",
        "**Passo 6: Previsões**\n",
        "\n",
        "* Use o modelo treinado para fazer previsões sobre a sobrevivência dos passageiros no conjunto de teste.\n",
        "\n",
        "**Passo 7: Avaliação Final**\n",
        "\n",
        "* Avalie o modelo com o conjunto de teste para obter métricas de desempenho realistas.\n",
        "* Analise as previsões e os resultados para entender como o modelo está se saindo.\n"
      ],
      "metadata": {
        "id": "mqE18cfup3Vo"
      }
    },
    {
      "cell_type": "code",
      "source": [
        "from sklearn.metrics import accuracy_score\n",
        "from sklearn.model_selection import train_test_split\n",
        "import re as re\n",
        "from sklearn.metrics import precision_score, recall_score, f1_score, confusion_matrix\n",
        "import tensorflow as tf\n",
        "from tensorflow import keras\n",
        "from tensorflow.keras import layers\n",
        "from tensorflow.keras.layers.experimental import preprocessing\n",
        "import matplotlib.pyplot as plt\n",
        "\n",
        "## Helper\n",
        "def get_title(name):\n",
        "    title_search = re.search(' ([A-Za-z]+)\\.', name)\n",
        "    if title_search:\n",
        "        return title_search.group(1)\n",
        "    return ''\n",
        "\n",
        "def plot_loss(history):\n",
        "    plt.plot(history.history['loss'], label='loss')\n",
        "    plt.plot(history.history['val_loss'], label='val_loss')\n",
        "    plt.xlabel('Épocas')\n",
        "    plt.ylabel('Erro')\n",
        "    plt.legend()\n",
        "    plt.grid(True)\n",
        "    plt.show()\n",
        "\n",
        "## Read dataset\n",
        "df_dataset = pd.read_csv('titanic.csv', index_col=None)\n",
        "\n",
        "\n",
        "## Feature Engineering\n",
        "df_removed = df_dataset.drop(columns=['PassengerId', 'Ticket', 'Cabin'])\n",
        "\n",
        "df_removed['FamilySize'] = df_removed['SibSp'] + df_removed['Parch'] + 1\n",
        "df_removed['IsAlone'] = 0\n",
        "df_removed.loc[df_removed['FamilySize'] == 1, 'IsAlone'] = 1\n",
        "df_removed['Fare'] = df_removed['Fare'].fillna(df_removed['Fare'].median())\n",
        "df_removed['Fgroup'] = pd.qcut(df_removed['Fare'], 10, labels=range(10))\n",
        "\n",
        "\n",
        "df_removed['Title'] = df_removed['Name'].apply(get_title)\n",
        "df_removed['Age'] = df_removed.groupby('Title')['Age'].apply(lambda x: x.fillna(x.mean()))\n",
        "\n",
        "df_removed['Title'] = df_removed['Title'].replace(['Capt', 'Col', 'Countess', 'Don', 'Dona' , 'Dr', 'Jonkheer', 'Lady',\n",
        "                                             'Major', 'Master',  'Miss'  ,'Mlle', 'Mme', 'Mr', 'Mrs', 'Ms', 'Rev', 'Sir'],\n",
        "                                            ['Sacrificed', 'Respected', 'Nobles', 'Mr', 'Mrs', 'Respected', 'Mr', 'Nobles',\n",
        "                                             'Respected', 'Kids', 'Miss', 'Nobles', 'Nobles', 'Mr', 'Mrs', 'Nobles', 'Sacrificed', 'Nobles'])\n",
        "df_removed['Title'] = df_removed['Title'].replace(['Kids', 'Miss', 'Mr', 'Mrs', 'Nobles', 'Respected', 'Sacrificed'], [4, 4, 2, 5, 6, 3, 1])\n",
        "\n",
        "\n",
        "df_removed['Agroup'] = pd.qcut(df_removed['Age'], 10, labels=range(10))\n",
        "\n",
        "\n",
        "values = {'Age': 20, 'Embarked': 'Missing'}\n",
        "df_filled = df_removed.fillna(value=values)\n",
        "\n",
        "df_filled['Sex'] = df_filled.Sex.map({\"female\":0, \"male\":1})\n",
        "\n",
        "df_dummy = pd.get_dummies(df_filled, columns=['Embarked', 'Title'])\n",
        "\n",
        "\n",
        "df_filter = df_dummy.drop([\"Name\"], axis=1)\n",
        "\n",
        "X_columns = df_filter.columns.tolist()\n",
        "X_columns.remove('Survived')\n",
        "\n",
        "print(\"Colunas selecionadas: \",X_columns)\n",
        "\n",
        "X = df_filter[X_columns]\n",
        "y = df_filter.Survived\n",
        "\n",
        "X_train, X_test, y_train, y_test = train_test_split(X, y, test_size=0.3, random_state=42)\n",
        "\n",
        "normalizer = preprocessing.Normalization()\n",
        "normalizer.adapt(X_train)\n",
        "\n",
        "## Train / Test\n",
        "model = keras.Sequential([\n",
        "    normalizer,\n",
        "    layers.Dense(1,  activation='sigmoid')\n",
        "])\n",
        "model.compile(optimizer=tf.optimizers.Adam(learning_rate=0.001), loss='binary_crossentropy', metrics=['accuracy'])\n",
        "\n",
        "history = model.fit(X_train, y_train, epochs=35, validation_split = 0.2, verbose=0)\n",
        "\n",
        "\n",
        "## Avaliation\n",
        "\n",
        "plot_loss(history)\n",
        "\n",
        "threshold=.5\n",
        "y_pred_test = model.predict(X_test)\n",
        "y_pred_train = model.predict(X_train)\n",
        "y_pred_train_bin = (y_pred_train > threshold).astype(int)\n",
        "y_pred_test_bin = (y_pred_test > threshold).astype(int)\n",
        "print(f\"Train accuracy = {accuracy_score(y_train,  y_pred_train_bin)}\")\n",
        "print(f\"Test accuracy = {accuracy_score(y_test,  y_pred_test_bin)}\")\n",
        "\n",
        "precision = precision_score(y_test, y_pred_test_bin)  # Precisão\n",
        "recall = recall_score(y_test, y_pred_test_bin)  # Recall\n",
        "f1 = f1_score(y_test, y_pred_test_bin)  # F1-score\n",
        "\n",
        "print(f'Precisão: {precision:.2f}')\n",
        "print(f'Recall: {recall:.2f}')\n",
        "print(f'F1-score: {f1:.2f}')\n",
        "\n",
        "confusion = confusion_matrix(y_test, y_pred_test_bin)\n",
        "print(\"Matriz de Confusão:\")\n",
        "print(confusion)"
      ],
      "metadata": {
        "colab": {
          "base_uri": "https://localhost:8080/",
          "height": 818
        },
        "id": "wy9dLUbUf6es",
        "outputId": "4e8bb832-0008-43f6-8519-fe07181ab46c"
      },
      "execution_count": 39,
      "outputs": [
        {
          "output_type": "stream",
          "name": "stdout",
          "text": [
            "Colunas selecionadas:  ['Pclass', 'Sex', 'Age', 'SibSp', 'Parch', 'Fare', 'FamilySize', 'IsAlone', 'Fgroup', 'Agroup', 'Embarked_C', 'Embarked_Missing', 'Embarked_Q', 'Embarked_S', 'Title_1', 'Title_2', 'Title_3', 'Title_4', 'Title_5', 'Title_6']\n"
          ]
        },
        {
          "output_type": "stream",
          "name": "stderr",
          "text": [
            "<ipython-input-39-2ba4d504b8f7>:42: FutureWarning: Not prepending group keys to the result index of transform-like apply. In the future, the group keys will be included in the index, regardless of whether the applied function returns a like-indexed object.\n",
            "To preserve the previous behavior, use\n",
            "\n",
            "\t>>> .groupby(..., group_keys=False)\n",
            "\n",
            "To adopt the future behavior and silence this warning, use \n",
            "\n",
            "\t>>> .groupby(..., group_keys=True)\n",
            "  df_removed['Age'] = df_removed.groupby('Title')['Age'].apply(lambda x: x.fillna(x.mean()))\n"
          ]
        },
        {
          "output_type": "display_data",
          "data": {
            "text/plain": [
              "<Figure size 640x480 with 1 Axes>"
            ],
            "image/png": "[encoded data removed]"
          },
          "metadata": {}
        },
        {
          "output_type": "stream",
          "name": "stdout",
          "text": [
            "9/9 [==============================] - 0s 2ms/step\n",
            "20/20 [==============================] - 0s 2ms/step\n",
            "Train accuracy = 0.7897271268057785\n",
            "Test accuracy = 0.7835820895522388\n",
            "Precisão: 0.72\n",
            "Recall: 0.77\n",
            "F1-score: 0.75\n",
            "Matriz de Confusão:\n",
            "[[124  33]\n",
            " [ 25  86]]\n"
          ]
        }
      ]
    }
  ],
  "metadata": {
    "kernelspec": {
      "display_name": "Python 3",
      "language": "python",
      "name": "python3"
    },
    "language_info": {
      "codemirror_mode": {
        "name": "ipython",
        "version": 3
      },
      "file_extension": ".py",
      "mimetype": "text/x-python",
      "name": "python",
      "nbconvert_exporter": "python",
      "pygments_lexer": "ipython3",
      "version": "3.7.3"
    },
    "colab": {
      "provenance": [],
      "include_colab_link": true
    }
  },
  "nbformat": 4,
  "nbformat_minor": 0
}